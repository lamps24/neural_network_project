{
 "cells": [
  {
   "cell_type": "code",
   "execution_count": 1,
   "metadata": {},
   "outputs": [],
   "source": [
    "%matplotlib inline\n",
    "\n",
    "import sys\n",
    "sys.path += ['../src/']\n",
    "\n",
    "from data import DatasetSet"
   ]
  },
  {
   "cell_type": "code",
   "execution_count": 2,
   "metadata": {},
   "outputs": [
    {
     "data": {
      "text/plain": [
       "_StoreAction(option_strings=['--grad-clip'], dest='grad_clip', nargs=None, const=None, default=None, type=<class 'float'>, choices=None, help='If specified, clip gradients with specified magnitude', metavar=None)"
      ]
     },
     "execution_count": 2,
     "metadata": {},
     "output_type": "execute_result"
    }
   ],
   "source": [
    "import argparse\n",
    "from pathlib import Path\n",
    "\n",
    "parser = argparse.ArgumentParser(description='PyTorch Code for A Universal Music Translation Network')\n",
    "# Env options:\n",
    "parser.add_argument('--epochs', type=int, default=10000, metavar='N',\n",
    "                    help='number of epochs to train (default: 92)')\n",
    "parser.add_argument('--seed', type=int, default=1, metavar='S',\n",
    "                    help='random seed (default: 1)')\n",
    "parser.add_argument('--expName', type=str, required=True,\n",
    "                    help='Experiment name')\n",
    "parser.add_argument('--data',\n",
    "                    metavar='D', type=Path, help='Data path', nargs='+')\n",
    "parser.add_argument('--checkpoint', default='',\n",
    "                    metavar='C', type=str, help='Checkpoint path')\n",
    "parser.add_argument('--load-optimizer', action='store_true')\n",
    "parser.add_argument('--per-epoch', action='store_true',\n",
    "                    help='Save model per epoch')\n",
    "\n",
    "# Distributed\n",
    "parser.add_argument('--dist-url', default='env://',\n",
    "                    help='Distributed training parameters URL')\n",
    "parser.add_argument('--dist-backend', default='nccl')\n",
    "parser.add_argument('--local_rank', type=int,\n",
    "                    help='Ignored during training.')\n",
    "\n",
    "# Data options\n",
    "parser.add_argument('--seq-len', type=int, default=16000,\n",
    "                    help='Sequence length')\n",
    "parser.add_argument('--epoch-len', type=int, default=10000,\n",
    "                    help='Samples per epoch')\n",
    "parser.add_argument('--batch-size', type=int, default=32,\n",
    "                    help='Batch size')\n",
    "parser.add_argument('--num-workers', type=int, default=10,\n",
    "                    help='DataLoader workers')\n",
    "parser.add_argument('--data-aug', action='store_true',\n",
    "                    help='Turns data aug on')\n",
    "parser.add_argument('--magnitude', type=float, default=0.5,\n",
    "                    help='Data augmentation magnitude.')\n",
    "parser.add_argument('--lr', type=float, default=1e-4,\n",
    "                    help='Learning rate')\n",
    "parser.add_argument('--lr-decay', type=float, default=0.98,\n",
    "                    help='new LR = old LR * decay')\n",
    "parser.add_argument('--short', action='store_true',\n",
    "                    help='Run only a few batches per epoch for testing')\n",
    "parser.add_argument('--h5-dataset-name', type=str, default='wav',\n",
    "                    help='Dataset name in .h5 file')\n",
    "\n",
    "# Encoder options\n",
    "parser.add_argument('--latent-d', type=int, default=128,\n",
    "                    help='Latent size')\n",
    "parser.add_argument('--repeat-num', type=int, default=6,\n",
    "                    help='No. of hidden layers')\n",
    "parser.add_argument('--encoder-channels', type=int, default=128,\n",
    "                    help='Hidden layer size')\n",
    "parser.add_argument('--encoder-blocks', type=int, default=3,\n",
    "                    help='No. of encoder blocks.')\n",
    "parser.add_argument('--encoder-pool', type=int, default=800,\n",
    "                    help='Number of encoder outputs to pool over.')\n",
    "parser.add_argument('--encoder-final-kernel-size', type=int, default=1,\n",
    "                    help='final conv kernel size')\n",
    "parser.add_argument('--encoder-layers', type=int, default=10,\n",
    "                    help='No. of layers in each encoder block.')\n",
    "parser.add_argument('--encoder-func', type=str, default='relu',\n",
    "                    help='Encoder activation func.')\n",
    "\n",
    "# Decoder options\n",
    "parser.add_argument('--blocks', type=int, default=4,\n",
    "                    help='No. of wavenet blocks.')\n",
    "parser.add_argument('--layers', type=int, default=10,\n",
    "                    help='No. of layers in each block.')\n",
    "parser.add_argument('--kernel-size', type=int, default=2,\n",
    "                    help='Size of kernel.')\n",
    "parser.add_argument('--residual-channels', type=int, default=128,\n",
    "                    help='Residual channels to use.')\n",
    "parser.add_argument('--skip-channels', type=int, default=128,\n",
    "                    help='Skip channels to use.')\n",
    "\n",
    "# Z discriminator options\n",
    "parser.add_argument('--d-layers', type=int, default=3,\n",
    "                    help='Number of 1d 1-kernel convolutions on the input Z vectors')\n",
    "parser.add_argument('--d-channels', type=int, default=100,\n",
    "                    help='1d convolutions channels')\n",
    "parser.add_argument('--d-cond', type=int, default=1024,\n",
    "                    help='WaveNet conditioning dimension')\n",
    "parser.add_argument('--d-lambda', type=float, default=1e-2,\n",
    "                    help='Adversarial loss weight.')\n",
    "parser.add_argument('--p-dropout-discriminator', type=float, default=0.0,\n",
    "                    help='Discriminator input dropout - if unspecified, no dropout applied')\n",
    "parser.add_argument('--grad-clip', type=float,\n",
    "                    help='If specified, clip gradients with specified magnitude')"
   ]
  },
  {
   "cell_type": "code",
   "execution_count": 3,
   "metadata": {},
   "outputs": [],
   "source": [
    "arguments = '--data ../musicnet/preprocessed/Bach_Solo_Cello \\\n",
    "           ../musicnet/preprocessed/Beethoven_Solo_Piano \\\n",
    "           ../musicnet/preprocessed/Cambini_Wind_Quintet \\\n",
    "           ../musicnet/preprocessed/Bach_Solo_Piano \\\n",
    "           ../musicnet/preprocessed/Beethoven_Accompanied_Violin \\\n",
    "           ../musicnet/preprocessed/Beethoven_String_Quartet  \\\n",
    "    --batch-size 3\\\n",
    "    --lr-decay 0.995 \\\n",
    "    --epoch-len 1000 \\\n",
    "    --num-workers 5 \\\n",
    "    --lr 1e-3 \\\n",
    "    --seq-len 8000 \\\n",
    "    --d-lambda 1e-2 \\\n",
    "    --expName ${EXP} \\\n",
    "    --latent-d 64 \\\n",
    "    --layers 14 \\\n",
    "    --blocks 4 \\\n",
    "    --data-aug \\\n",
    "    --grad-clip 1 \\\n",
    "    --expName testing'.split()"
   ]
  },
  {
   "cell_type": "code",
   "execution_count": 4,
   "metadata": {},
   "outputs": [],
   "source": [
    "args = parser.parse_args(arguments)"
   ]
  },
  {
   "cell_type": "code",
   "execution_count": 5,
   "metadata": {},
   "outputs": [
    {
     "name": "stderr",
     "output_type": "stream",
     "text": [
      "2020-03-14 13:07:51,996 - INFO - Dataset created. 9 files, augmentation: True. Path: ../musicnet/preprocessed/Bach_Solo_Cello/train\n",
      "2020-03-14 13:07:52,134 - INFO - Dataset created. 1 files, augmentation: True. Path: ../musicnet/preprocessed/Bach_Solo_Cello/val\n",
      "2020-03-14 13:07:52,236 - INFO - Dataset created. 74 files, augmentation: True. Path: ../musicnet/preprocessed/Beethoven_Solo_Piano/train\n",
      "2020-03-14 13:07:52,386 - INFO - Dataset created. 9 files, augmentation: True. Path: ../musicnet/preprocessed/Beethoven_Solo_Piano/val\n",
      "2020-03-14 13:07:52,533 - INFO - Dataset created. 7 files, augmentation: True. Path: ../musicnet/preprocessed/Cambini_Wind_Quintet/train\n",
      "2020-03-14 13:07:52,657 - INFO - Dataset created. 1 files, augmentation: True. Path: ../musicnet/preprocessed/Cambini_Wind_Quintet/val\n",
      "2020-03-14 13:07:52,874 - INFO - Dataset created. 31 files, augmentation: True. Path: ../musicnet/preprocessed/Bach_Solo_Piano/train\n",
      "2020-03-14 13:07:53,180 - INFO - Dataset created. 3 files, augmentation: True. Path: ../musicnet/preprocessed/Bach_Solo_Piano/val\n",
      "2020-03-14 13:07:53,250 - INFO - Dataset created. 17 files, augmentation: True. Path: ../musicnet/preprocessed/Beethoven_Accompanied_Violin/train\n",
      "2020-03-14 13:07:53,592 - INFO - Dataset created. 2 files, augmentation: True. Path: ../musicnet/preprocessed/Beethoven_Accompanied_Violin/val\n",
      "2020-03-14 13:07:53,919 - INFO - Dataset created. 22 files, augmentation: True. Path: ../musicnet/preprocessed/Beethoven_String_Quartet/train\n",
      "2020-03-14 13:07:55,285 - INFO - Dataset created. 2 files, augmentation: True. Path: ../musicnet/preprocessed/Beethoven_String_Quartet/val\n"
     ]
    }
   ],
   "source": [
    "dataset = [DatasetSet(d, args.seq_len, args) for d in args.data]"
   ]
  },
  {
   "cell_type": "code",
   "execution_count": 6,
   "metadata": {},
   "outputs": [],
   "source": [
    "dataset = dataset[0]"
   ]
  },
  {
   "cell_type": "code",
   "execution_count": 7,
   "metadata": {},
   "outputs": [],
   "source": [
    "x, x_aug = next(dataset.train_iter)\n",
    "del dataset"
   ]
  },
  {
   "cell_type": "code",
   "execution_count": 8,
   "metadata": {},
   "outputs": [],
   "source": [
    "from utils import inv_mu_law, mu_law\n",
    "import librosa\n",
    "from librosa.display import waveplot\n",
    "import numpy as np\n",
    "import matplotlib.pyplot as plt"
   ]
  },
  {
   "cell_type": "code",
   "execution_count": 9,
   "metadata": {},
   "outputs": [
    {
     "data": {
      "text/plain": [
       "torch.Size([3, 8000])"
      ]
     },
     "execution_count": 9,
     "metadata": {},
     "output_type": "execute_result"
    }
   ],
   "source": [
    "x_np = np.array(x)\n",
    "x.shape"
   ]
  },
  {
   "cell_type": "code",
   "execution_count": 11,
   "metadata": {},
   "outputs": [
    {
     "data": {
      "text/html": [
       "\n",
       "                <audio  controls=\"controls\" >\n",
       "                    <source src=\"data:audio/wav;base64,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\" type=\"audio/wav\" />\n",
       "                    Your browser does not support the audio element.\n",
       "                </audio>\n",
       "              "
      ],
      "text/plain": [
       "<IPython.lib.display.Audio object>"
      ]
     },
     "execution_count": 11,
     "metadata": {},
     "output_type": "execute_result"
    }
   ],
   "source": [
    "import IPython.display as ipd\n",
    "\n",
    "\n",
    "ipd.Audio(2**15 * inv_mu_law(x_np[2,:]), rate=16000) # load a NumPy array"
   ]
  },
  {
   "cell_type": "code",
   "execution_count": 12,
   "metadata": {},
   "outputs": [
    {
     "data": {
      "text/plain": [
       "torch.Size([3, 64, 10])"
      ]
     },
     "execution_count": 12,
     "metadata": {},
     "output_type": "execute_result"
    }
   ],
   "source": [
    "from wavenet_models import Encoder\n",
    "\n",
    "encoder = Encoder(args)\n",
    "z = encoder(x)\n",
    "z.shape"
   ]
  },
  {
   "cell_type": "code",
   "execution_count": 13,
   "metadata": {},
   "outputs": [
    {
     "data": {
      "text/plain": [
       "Sequential(\n",
       "  (0): DilatedResConv(\n",
       "    (dilated_conv): Conv1d(128, 128, kernel_size=(3,), stride=(1,), padding=(1,))\n",
       "    (conv_1x1): Conv1d(128, 128, kernel_size=(1,), stride=(1,))\n",
       "  )\n",
       "  (1): DilatedResConv(\n",
       "    (dilated_conv): Conv1d(128, 128, kernel_size=(3,), stride=(1,), padding=(2,), dilation=(2,))\n",
       "    (conv_1x1): Conv1d(128, 128, kernel_size=(1,), stride=(1,))\n",
       "  )\n",
       "  (2): DilatedResConv(\n",
       "    (dilated_conv): Conv1d(128, 128, kernel_size=(3,), stride=(1,), padding=(4,), dilation=(4,))\n",
       "    (conv_1x1): Conv1d(128, 128, kernel_size=(1,), stride=(1,))\n",
       "  )\n",
       "  (3): DilatedResConv(\n",
       "    (dilated_conv): Conv1d(128, 128, kernel_size=(3,), stride=(1,), padding=(8,), dilation=(8,))\n",
       "    (conv_1x1): Conv1d(128, 128, kernel_size=(1,), stride=(1,))\n",
       "  )\n",
       "  (4): DilatedResConv(\n",
       "    (dilated_conv): Conv1d(128, 128, kernel_size=(3,), stride=(1,), padding=(16,), dilation=(16,))\n",
       "    (conv_1x1): Conv1d(128, 128, kernel_size=(1,), stride=(1,))\n",
       "  )\n",
       "  (5): DilatedResConv(\n",
       "    (dilated_conv): Conv1d(128, 128, kernel_size=(3,), stride=(1,), padding=(32,), dilation=(32,))\n",
       "    (conv_1x1): Conv1d(128, 128, kernel_size=(1,), stride=(1,))\n",
       "  )\n",
       "  (6): DilatedResConv(\n",
       "    (dilated_conv): Conv1d(128, 128, kernel_size=(3,), stride=(1,), padding=(64,), dilation=(64,))\n",
       "    (conv_1x1): Conv1d(128, 128, kernel_size=(1,), stride=(1,))\n",
       "  )\n",
       "  (7): DilatedResConv(\n",
       "    (dilated_conv): Conv1d(128, 128, kernel_size=(3,), stride=(1,), padding=(128,), dilation=(128,))\n",
       "    (conv_1x1): Conv1d(128, 128, kernel_size=(1,), stride=(1,))\n",
       "  )\n",
       "  (8): DilatedResConv(\n",
       "    (dilated_conv): Conv1d(128, 128, kernel_size=(3,), stride=(1,), padding=(256,), dilation=(256,))\n",
       "    (conv_1x1): Conv1d(128, 128, kernel_size=(1,), stride=(1,))\n",
       "  )\n",
       "  (9): DilatedResConv(\n",
       "    (dilated_conv): Conv1d(128, 128, kernel_size=(3,), stride=(1,), padding=(512,), dilation=(512,))\n",
       "    (conv_1x1): Conv1d(128, 128, kernel_size=(1,), stride=(1,))\n",
       "  )\n",
       "  (10): DilatedResConv(\n",
       "    (dilated_conv): Conv1d(128, 128, kernel_size=(3,), stride=(1,), padding=(1,))\n",
       "    (conv_1x1): Conv1d(128, 128, kernel_size=(1,), stride=(1,))\n",
       "  )\n",
       "  (11): DilatedResConv(\n",
       "    (dilated_conv): Conv1d(128, 128, kernel_size=(3,), stride=(1,), padding=(2,), dilation=(2,))\n",
       "    (conv_1x1): Conv1d(128, 128, kernel_size=(1,), stride=(1,))\n",
       "  )\n",
       "  (12): DilatedResConv(\n",
       "    (dilated_conv): Conv1d(128, 128, kernel_size=(3,), stride=(1,), padding=(4,), dilation=(4,))\n",
       "    (conv_1x1): Conv1d(128, 128, kernel_size=(1,), stride=(1,))\n",
       "  )\n",
       "  (13): DilatedResConv(\n",
       "    (dilated_conv): Conv1d(128, 128, kernel_size=(3,), stride=(1,), padding=(8,), dilation=(8,))\n",
       "    (conv_1x1): Conv1d(128, 128, kernel_size=(1,), stride=(1,))\n",
       "  )\n",
       "  (14): DilatedResConv(\n",
       "    (dilated_conv): Conv1d(128, 128, kernel_size=(3,), stride=(1,), padding=(16,), dilation=(16,))\n",
       "    (conv_1x1): Conv1d(128, 128, kernel_size=(1,), stride=(1,))\n",
       "  )\n",
       "  (15): DilatedResConv(\n",
       "    (dilated_conv): Conv1d(128, 128, kernel_size=(3,), stride=(1,), padding=(32,), dilation=(32,))\n",
       "    (conv_1x1): Conv1d(128, 128, kernel_size=(1,), stride=(1,))\n",
       "  )\n",
       "  (16): DilatedResConv(\n",
       "    (dilated_conv): Conv1d(128, 128, kernel_size=(3,), stride=(1,), padding=(64,), dilation=(64,))\n",
       "    (conv_1x1): Conv1d(128, 128, kernel_size=(1,), stride=(1,))\n",
       "  )\n",
       "  (17): DilatedResConv(\n",
       "    (dilated_conv): Conv1d(128, 128, kernel_size=(3,), stride=(1,), padding=(128,), dilation=(128,))\n",
       "    (conv_1x1): Conv1d(128, 128, kernel_size=(1,), stride=(1,))\n",
       "  )\n",
       "  (18): DilatedResConv(\n",
       "    (dilated_conv): Conv1d(128, 128, kernel_size=(3,), stride=(1,), padding=(256,), dilation=(256,))\n",
       "    (conv_1x1): Conv1d(128, 128, kernel_size=(1,), stride=(1,))\n",
       "  )\n",
       "  (19): DilatedResConv(\n",
       "    (dilated_conv): Conv1d(128, 128, kernel_size=(3,), stride=(1,), padding=(512,), dilation=(512,))\n",
       "    (conv_1x1): Conv1d(128, 128, kernel_size=(1,), stride=(1,))\n",
       "  )\n",
       "  (20): DilatedResConv(\n",
       "    (dilated_conv): Conv1d(128, 128, kernel_size=(3,), stride=(1,), padding=(1,))\n",
       "    (conv_1x1): Conv1d(128, 128, kernel_size=(1,), stride=(1,))\n",
       "  )\n",
       "  (21): DilatedResConv(\n",
       "    (dilated_conv): Conv1d(128, 128, kernel_size=(3,), stride=(1,), padding=(2,), dilation=(2,))\n",
       "    (conv_1x1): Conv1d(128, 128, kernel_size=(1,), stride=(1,))\n",
       "  )\n",
       "  (22): DilatedResConv(\n",
       "    (dilated_conv): Conv1d(128, 128, kernel_size=(3,), stride=(1,), padding=(4,), dilation=(4,))\n",
       "    (conv_1x1): Conv1d(128, 128, kernel_size=(1,), stride=(1,))\n",
       "  )\n",
       "  (23): DilatedResConv(\n",
       "    (dilated_conv): Conv1d(128, 128, kernel_size=(3,), stride=(1,), padding=(8,), dilation=(8,))\n",
       "    (conv_1x1): Conv1d(128, 128, kernel_size=(1,), stride=(1,))\n",
       "  )\n",
       "  (24): DilatedResConv(\n",
       "    (dilated_conv): Conv1d(128, 128, kernel_size=(3,), stride=(1,), padding=(16,), dilation=(16,))\n",
       "    (conv_1x1): Conv1d(128, 128, kernel_size=(1,), stride=(1,))\n",
       "  )\n",
       "  (25): DilatedResConv(\n",
       "    (dilated_conv): Conv1d(128, 128, kernel_size=(3,), stride=(1,), padding=(32,), dilation=(32,))\n",
       "    (conv_1x1): Conv1d(128, 128, kernel_size=(1,), stride=(1,))\n",
       "  )\n",
       "  (26): DilatedResConv(\n",
       "    (dilated_conv): Conv1d(128, 128, kernel_size=(3,), stride=(1,), padding=(64,), dilation=(64,))\n",
       "    (conv_1x1): Conv1d(128, 128, kernel_size=(1,), stride=(1,))\n",
       "  )\n",
       "  (27): DilatedResConv(\n",
       "    (dilated_conv): Conv1d(128, 128, kernel_size=(3,), stride=(1,), padding=(128,), dilation=(128,))\n",
       "    (conv_1x1): Conv1d(128, 128, kernel_size=(1,), stride=(1,))\n",
       "  )\n",
       "  (28): DilatedResConv(\n",
       "    (dilated_conv): Conv1d(128, 128, kernel_size=(3,), stride=(1,), padding=(256,), dilation=(256,))\n",
       "    (conv_1x1): Conv1d(128, 128, kernel_size=(1,), stride=(1,))\n",
       "  )\n",
       "  (29): DilatedResConv(\n",
       "    (dilated_conv): Conv1d(128, 128, kernel_size=(3,), stride=(1,), padding=(512,), dilation=(512,))\n",
       "    (conv_1x1): Conv1d(128, 128, kernel_size=(1,), stride=(1,))\n",
       "  )\n",
       ")"
      ]
     },
     "execution_count": 13,
     "metadata": {},
     "output_type": "execute_result"
    }
   ],
   "source": [
    "import torch.nn as nn\n",
    "\n",
    "start = nn.Conv1d(1, args.encoder_channels, kernel_size=3, stride=1, padding=1)\n",
    "\n",
    "import torch.nn.functional as F\n",
    "\n",
    "\n",
    "class DilatedResConv(nn.Module):\n",
    "    def __init__(self, channels, dilation=1, activation='relu', padding=1, kernel_size=3, left_pad=0):\n",
    "        super().__init__()\n",
    "        in_channels = channels\n",
    "\n",
    "        if activation == 'relu':\n",
    "            self.activation = lambda *args, **kwargs: F.relu(*args, **kwargs, inplace=True)\n",
    "        elif activation == 'tanh':\n",
    "            self.activation = F.tanh\n",
    "        elif activation == 'glu':\n",
    "            self.activation = F.glu\n",
    "            in_channels = channels // 2\n",
    "\n",
    "        self.left_pad = left_pad\n",
    "        self.dilated_conv = nn.Conv1d(in_channels, channels, kernel_size=kernel_size, stride=1,\n",
    "                                      padding=dilation * padding, dilation=dilation, bias=True)\n",
    "        self.conv_1x1 = nn.Conv1d(in_channels, channels,\n",
    "                                  kernel_size=1, bias=True)\n",
    "\n",
    "    def forward(self, input):\n",
    "        x = input\n",
    "\n",
    "        if self.left_pad > 0:\n",
    "            x = F.pad(x, (self.left_pad, 0))\n",
    "        x = self.dilated_conv(x)\n",
    "        x = self.activation(x)\n",
    "        x = self.conv_1x1(x)\n",
    "\n",
    "        return input + x\n",
    "\n",
    "layers = []\n",
    "for _ in range(args.encoder_blocks):\n",
    "    for i in range(args.encoder_layers):\n",
    "        dilation = 2 ** i\n",
    "        layers.append(DilatedResConv(args.encoder_channels, dilation, args.encoder_func))\n",
    "dilated_convs = nn.Sequential(*layers)\n",
    "\n",
    "conv_1x1 = nn.Conv1d(args.encoder_channels, args.latent_d, 1)\n",
    "pool = nn.AvgPool1d(args.encoder_pool)\n",
    "dilated_convs"
   ]
  },
  {
   "cell_type": "code",
   "execution_count": 14,
   "metadata": {},
   "outputs": [
    {
     "name": "stdout",
     "output_type": "stream",
     "text": [
      "torch.Size([3, 8000])\n",
      "torch.Size([3, 1, 8000])\n",
      "torch.Size([3, 128, 8000])\n",
      "torch.Size([3, 128, 8000])\n",
      "torch.Size([3, 64, 8000])\n",
      "torch.Size([3, 64, 10])\n"
     ]
    }
   ],
   "source": [
    "w = x / 255 - .5\n",
    "print(w.shape)\n",
    "if w.dim() < 3:\n",
    "    w = w.unsqueeze(1)\n",
    "print(w.shape)\n",
    "w = start(w)\n",
    "print(w.shape)\n",
    "w = dilated_convs(w)\n",
    "print(w.shape)\n",
    "w = conv_1x1(w)\n",
    "print(w.shape)\n",
    "w = pool(w)\n",
    "print(w.shape)"
   ]
  },
  {
   "cell_type": "code",
   "execution_count": 15,
   "metadata": {},
   "outputs": [],
   "source": [
    "from wavenet_models import ZDiscriminator\n",
    "\n",
    "args.n_datasets = len(args.data)\n",
    "discriminator = ZDiscriminator(args)"
   ]
  },
  {
   "cell_type": "code",
   "execution_count": 16,
   "metadata": {},
   "outputs": [
    {
     "data": {
      "text/plain": [
       "tensor([[0.0815, 0.0364, 0.0167, 0.1327, 0.0401, 0.0542],\n",
       "        [0.0815, 0.0364, 0.0167, 0.1327, 0.0401, 0.0542],\n",
       "        [0.0815, 0.0364, 0.0167, 0.1327, 0.0401, 0.0542]],\n",
       "       grad_fn=<MeanBackward1>)"
      ]
     },
     "execution_count": 16,
     "metadata": {},
     "output_type": "execute_result"
    }
   ],
   "source": [
    "z_logits = discriminator(z)\n",
    "z_logits"
   ]
  },
  {
   "cell_type": "code",
   "execution_count": 17,
   "metadata": {},
   "outputs": [],
   "source": [
    "dropout = nn.Dropout(p=args.p_dropout_discriminator)\n",
    "convs = []\n",
    "for i in range(args.d_layers):\n",
    "    in_channels = args.latent_d if i == 0 else args.d_channels\n",
    "    convs.append(nn.Conv1d(in_channels, args.d_channels, 1))\n",
    "    convs.append(nn.ELU())\n",
    "convs.append(nn.Conv1d(args.d_channels, args.n_datasets, 1))\n",
    "\n",
    "convs = nn.Sequential(*convs)"
   ]
  },
  {
   "cell_type": "code",
   "execution_count": 18,
   "metadata": {},
   "outputs": [
    {
     "data": {
      "text/plain": [
       "torch.Size([3, 6])"
      ]
     },
     "execution_count": 18,
     "metadata": {},
     "output_type": "execute_result"
    }
   ],
   "source": [
    "w_logits = dropout(w)\n",
    "w_logits = convs(w_logits)\n",
    "w_logits = w_logits.mean(2)\n",
    "w_logits.shape"
   ]
  },
  {
   "cell_type": "code",
   "execution_count": 165,
   "metadata": {},
   "outputs": [],
   "source": [
    "from wavenet import WaveNet\n",
    "\n",
    "import torch\n",
    "\n",
    "decoder = WaveNet(args)\n",
    "\n",
    "def _upsample_cond(x, c):\n",
    "    bsz, channels, length = x.size()\n",
    "    cond_bsz, cond_channels, cond_length = c.size()\n",
    "    assert bsz == cond_bsz\n",
    "\n",
    "    if c.size(2) != 1:\n",
    "        c = c.unsqueeze(3).repeat(1, 1, 1, length // cond_length)\n",
    "        c = c.view(bsz, cond_channels, length)\n",
    "\n",
    "    return c\n",
    "\n",
    "class CausalConv1d(nn.Conv1d):\n",
    "    def __init__(self,\n",
    "                 in_channels,\n",
    "                 out_channels,\n",
    "                 kernel_size=2,\n",
    "                 dilation=1,\n",
    "                 **kwargs):\n",
    "        super(CausalConv1d, self).__init__(\n",
    "            in_channels,\n",
    "            out_channels,\n",
    "            kernel_size,\n",
    "            padding=dilation * (kernel_size - 1),\n",
    "            dilation=dilation,\n",
    "            **kwargs)\n",
    "\n",
    "    def forward(self, input):\n",
    "        out = super(CausalConv1d, self).forward(input)\n",
    "        return out[:, :, :-self.padding[0]]\n",
    "\n",
    "class WavenetLayer(nn.Module):\n",
    "    def __init__(self, residual_channels, skip_channels, cond_channels,\n",
    "                 kernel_size=2, dilation=1):\n",
    "        super(WavenetLayer, self).__init__()\n",
    "\n",
    "        self.causal = CausalConv1d(residual_channels, 2 * residual_channels,\n",
    "                                   kernel_size, dilation=dilation, bias=True)\n",
    "        self.condition = nn.Conv1d(cond_channels, 2 * residual_channels,\n",
    "                                   kernel_size=1, bias=True)\n",
    "        self.residual = nn.Conv1d(residual_channels, residual_channels,\n",
    "                                  kernel_size=1, bias=True)\n",
    "        self.skip = nn.Conv1d(residual_channels, skip_channels,\n",
    "                              kernel_size=1, bias=True)\n",
    "\n",
    "    def _condition(self, x, c, f):\n",
    "        c = f(c)\n",
    "        x = x + c\n",
    "        return x\n",
    "\n",
    "    def forward(self, x, c=None):\n",
    "        x = self.causal(x)\n",
    "        if c is not None:\n",
    "            x = self._condition(x, c, self.condition)\n",
    "\n",
    "        assert x.size(1) % 2 == 0\n",
    "        gate, output = x.chunk(2, 1)\n",
    "        gate = torch.sigmoid(gate)\n",
    "        output = torch.tanh(output)\n",
    "        x = gate * output\n",
    "\n",
    "        residual = self.residual(x)\n",
    "        skip = self.skip(x)\n",
    "\n",
    "        return residual, skip\n",
    "\n",
    "first_conv = CausalConv1d(1, args.residual_channels, kernel_size=args.kernel_size)\n",
    "skip_conv = nn.Conv1d(args.residual_channels, args.skip_channels, kernel_size=1)\n",
    "\n",
    "layers = []\n",
    "for _ in range(args.blocks):\n",
    "    for i in range(args.layers):\n",
    "        dilation = 2 ** i\n",
    "        layers.append(WavenetLayer(args.residual_channels, args.skip_channels, args.latent_d,\n",
    "                                   args.kernel_size, dilation))\n",
    "layers = nn.ModuleList(layers)\n",
    "fc = nn.Conv1d(args.skip_channels, args.skip_channels, kernel_size=1)\n",
    "condition = nn.Conv1d(args.latent_d, args.skip_channels, kernel_size=1)\n",
    "logits = nn.Conv1d(args.skip_channels, 256, kernel_size=1)\n",
    "\n",
    "def _condition(x, c, f):\n",
    "    c = f(c)\n",
    "    x = x + c\n",
    "    return x"
   ]
  },
  {
   "cell_type": "code",
   "execution_count": 85,
   "metadata": {},
   "outputs": [
    {
     "data": {
      "text/plain": [
       "torch.Size([3, 256, 8000])"
      ]
     },
     "execution_count": 85,
     "metadata": {},
     "output_type": "execute_result"
    }
   ],
   "source": [
    "y = decoder(x)\n",
    "y.shape"
   ]
  },
  {
   "cell_type": "code",
   "execution_count": 156,
   "metadata": {},
   "outputs": [],
   "source": [
    "x_d = x\n",
    "c = z\n",
    "if x_d.dim() < 3:\n",
    "    x_d = x_d.unsqueeze(1)\n",
    "if (not 'Half' in x_d.type()) and (not 'Float' in x_d.type()):\n",
    "    x_d = x_d.float()\n",
    "\n",
    "x_d = x_d / 255 - .5\n",
    "x_d = F.pad(x_d, (1, 0))\n",
    "x_d = x_d[:, :, :-1]\n",
    "\n",
    "if c is not None:\n",
    "    c = _upsample_cond(x_d, c)\n",
    "\n",
    "residual = first_conv(x_d)\n",
    "skip = skip_conv(residual)\n",
    "\n",
    "for layer in layers:\n",
    "    r, s = layer(residual, c)\n",
    "    residual = residual + r\n",
    "    skip = skip + s"
   ]
  },
  {
   "cell_type": "code",
   "execution_count": 168,
   "metadata": {},
   "outputs": [
    {
     "name": "stdout",
     "output_type": "stream",
     "text": [
      "torch.Size([3, 128, 8000])\n",
      "torch.Size([3, 128, 8000])\n",
      "torch.Size([3, 128, 8000])\n"
     ]
    },
    {
     "ename": "NameError",
     "evalue": "name 'self' is not defined",
     "output_type": "error",
     "traceback": [
      "\u001b[0;31m---------------------------------------------------------------------------\u001b[0m",
      "\u001b[0;31mNameError\u001b[0m                                 Traceback (most recent call last)",
      "\u001b[0;32m<ipython-input-168-a10cf10ecb33>\u001b[0m in \u001b[0;36m<module>\u001b[0;34m\u001b[0m\n\u001b[1;32m      9\u001b[0m \u001b[0mprint\u001b[0m\u001b[0;34m(\u001b[0m\u001b[0mskip\u001b[0m\u001b[0;34m.\u001b[0m\u001b[0mshape\u001b[0m\u001b[0;34m)\u001b[0m\u001b[0;34m\u001b[0m\u001b[0;34m\u001b[0m\u001b[0m\n\u001b[1;32m     10\u001b[0m \u001b[0;34m\u001b[0m\u001b[0m\n\u001b[0;32m---> 11\u001b[0;31m \u001b[0mskip\u001b[0m \u001b[0;34m=\u001b[0m \u001b[0mself\u001b[0m\u001b[0;34m.\u001b[0m\u001b[0mlogits\u001b[0m\u001b[0;34m(\u001b[0m\u001b[0mskip\u001b[0m\u001b[0;34m)\u001b[0m\u001b[0;34m\u001b[0m\u001b[0;34m\u001b[0m\u001b[0m\n\u001b[0m\u001b[1;32m     12\u001b[0m \u001b[0mprint\u001b[0m\u001b[0;34m(\u001b[0m\u001b[0mskip\u001b[0m\u001b[0;34m.\u001b[0m\u001b[0mshape\u001b[0m\u001b[0;34m)\u001b[0m\u001b[0;34m\u001b[0m\u001b[0;34m\u001b[0m\u001b[0m\n",
      "\u001b[0;31mNameError\u001b[0m: name 'self' is not defined"
     ]
    }
   ],
   "source": [
    "#skip = F.relu(skip)\n",
    "skip = fc(skip)\n",
    "print(skip.shape)\n",
    "if c is not None:\n",
    "    skip = _condition(skip, c, condition)\n",
    "print(skip.shape)\n",
    "\n",
    "skip = F.relu(skip)\n",
    "print(skip.shape)\n",
    "\n"
   ]
  },
  {
   "cell_type": "code",
   "execution_count": 169,
   "metadata": {},
   "outputs": [
    {
     "name": "stdout",
     "output_type": "stream",
     "text": [
      "torch.Size([3, 256, 8000])\n"
     ]
    }
   ],
   "source": [
    "skip = logits(skip)\n",
    "print(skip.shape)\n"
   ]
  },
  {
   "cell_type": "code",
   "execution_count": 86,
   "metadata": {},
   "outputs": [
    {
     "data": {
      "text/plain": [
       "torch.Size([3, 256, 8000])"
      ]
     },
     "execution_count": 86,
     "metadata": {},
     "output_type": "execute_result"
    }
   ],
   "source": [
    "input = y\n",
    "target = x\n",
    "batch, channel, seq = input.size()\n",
    "\n",
    "input = input.transpose(1, 2).contiguous()\n",
    "input = input.view(-1, 256)  # (batch * seq, 256)\n",
    "target = target.view(-1).long()  # (batch * seq)\n",
    "\n",
    "cross_entropy = F.cross_entropy(input, target, reduction='none')  # (batch * seq)\n",
    "y[:,:,:].shape"
   ]
  },
  {
   "cell_type": "code",
   "execution_count": null,
   "metadata": {},
   "outputs": [],
   "source": [
    "r, wav_data = wavfile.read('../test.wav')\n",
    "assert wav_data.dtype == np.int16\n",
    "\n",
    "wav = wav_data.astype('float')\n",
    "\n",
    "ipd.Audio(mu_law(wav_data/ 2 ** 15), rate=r) # load a NumPy array\n",
    "\n",
    "#inv_mu_law(mu_law(wav_data))"
   ]
  },
  {
   "cell_type": "code",
   "execution_count": 170,
   "metadata": {},
   "outputs": [
    {
     "data": {
      "text/plain": [
       "tensor([0.0034, 0.0034, 0.0027, 0.0036, 0.0044, 0.0047, 0.0039, 0.0047, 0.0044,\n",
       "        0.0051, 0.0037, 0.0031, 0.0039, 0.0036, 0.0039, 0.0046, 0.0038, 0.0035,\n",
       "        0.0038, 0.0034, 0.0044, 0.0031, 0.0049, 0.0050, 0.0035, 0.0039, 0.0028,\n",
       "        0.0057, 0.0038, 0.0050, 0.0037, 0.0051, 0.0030, 0.0035, 0.0029, 0.0048,\n",
       "        0.0035, 0.0041, 0.0043, 0.0030, 0.0035, 0.0038, 0.0040, 0.0038, 0.0047,\n",
       "        0.0051, 0.0041, 0.0031, 0.0032, 0.0048, 0.0036, 0.0045, 0.0052, 0.0044,\n",
       "        0.0042, 0.0051, 0.0046, 0.0042, 0.0036, 0.0041, 0.0028, 0.0039, 0.0044,\n",
       "        0.0034, 0.0044, 0.0043, 0.0035, 0.0039, 0.0043, 0.0039, 0.0043, 0.0037,\n",
       "        0.0039, 0.0035, 0.0043, 0.0056, 0.0033, 0.0046, 0.0034, 0.0027, 0.0044,\n",
       "        0.0043, 0.0029, 0.0047, 0.0041, 0.0045, 0.0055, 0.0046, 0.0028, 0.0038,\n",
       "        0.0045, 0.0042, 0.0038, 0.0034, 0.0034, 0.0046, 0.0045, 0.0038, 0.0037,\n",
       "        0.0044, 0.0035, 0.0041, 0.0045, 0.0024, 0.0034, 0.0039, 0.0040, 0.0047,\n",
       "        0.0034, 0.0035, 0.0037, 0.0034, 0.0032, 0.0029, 0.0032, 0.0039, 0.0028,\n",
       "        0.0051, 0.0042, 0.0039, 0.0028, 0.0026, 0.0047, 0.0040, 0.0047, 0.0035,\n",
       "        0.0037, 0.0039, 0.0052, 0.0064, 0.0040, 0.0039, 0.0034, 0.0042, 0.0039,\n",
       "        0.0029, 0.0034, 0.0030, 0.0032, 0.0034, 0.0025, 0.0053, 0.0031, 0.0051,\n",
       "        0.0029, 0.0055, 0.0035, 0.0025, 0.0032, 0.0043, 0.0038, 0.0043, 0.0041,\n",
       "        0.0031, 0.0047, 0.0036, 0.0034, 0.0030, 0.0044, 0.0034, 0.0047, 0.0032,\n",
       "        0.0038, 0.0051, 0.0039, 0.0039, 0.0044, 0.0042, 0.0038, 0.0034, 0.0034,\n",
       "        0.0037, 0.0044, 0.0035, 0.0040, 0.0036, 0.0034, 0.0039, 0.0032, 0.0037,\n",
       "        0.0040, 0.0033, 0.0036, 0.0044, 0.0036, 0.0049, 0.0029, 0.0034, 0.0030,\n",
       "        0.0035, 0.0034, 0.0035, 0.0037, 0.0043, 0.0036, 0.0035, 0.0029, 0.0058,\n",
       "        0.0047, 0.0044, 0.0046, 0.0037, 0.0033, 0.0047, 0.0038, 0.0040, 0.0053,\n",
       "        0.0056, 0.0048, 0.0052, 0.0048, 0.0056, 0.0033, 0.0025, 0.0036, 0.0044,\n",
       "        0.0036, 0.0039, 0.0041, 0.0035, 0.0029, 0.0040, 0.0042, 0.0047, 0.0037,\n",
       "        0.0025, 0.0038, 0.0050, 0.0032, 0.0049, 0.0033, 0.0039, 0.0031, 0.0040,\n",
       "        0.0038, 0.0042, 0.0036, 0.0033, 0.0037, 0.0038, 0.0035, 0.0056, 0.0049,\n",
       "        0.0023, 0.0025, 0.0037, 0.0042, 0.0035, 0.0029, 0.0036, 0.0038, 0.0036,\n",
       "        0.0036, 0.0048, 0.0027, 0.0041], grad_fn=<SoftmaxBackward>)"
      ]
     },
     "execution_count": 170,
     "metadata": {},
     "output_type": "execute_result"
    }
   ],
   "source": [
    "F.softmax(skip[0,:,0], dim=0)"
   ]
  },
  {
   "cell_type": "code",
   "execution_count": 172,
   "metadata": {},
   "outputs": [],
   "source": [
    "_, y_preds = F.softmax(y, dim=1).max(dim=1)\n",
    "_, skip_preds = F.softmax(skip, dim=1).max(dim=1)"
   ]
  },
  {
   "cell_type": "code",
   "execution_count": 177,
   "metadata": {},
   "outputs": [
    {
     "data": {
      "text/html": [
       "\n",
       "                <audio  controls=\"controls\" >\n",
       "                    <source src=\"data:audio/wav;base64,UklGRqQ+AABXQVZFZm10IBAAAAABAAEAgD4AAAB9AAACABAAZGF0YYA+AABFB0UHRQdFB0UHRQdFB0UHRQdFB0UHRQdFB0UHRQdFB0UHRQdFB0UHRQdFB0UHRQdFB0UHRQdFB0UHRQdFB0UHRQdFB0UHRQdFB0UHRQdFB0UHRQdFB0UHRQdFB0UHRQdFB0UHRQdFB0UHRQdFB0UHRQdFB0UHRQdFB0UHRQdFB0UHRQdFB0UHRQdFB0UHRQdFB0UHRQdFB0UHRQdFB0UHrASsBKwErASsBKwErASsBKwErASsBKwErASsBKwErASsBKwErASsBKwErASsBKwErASsBKwErASsBKwErASsBKwErASsBKwErASsBKwErASsBKwErASsBKwErASsBKwErASsBKwErASsBKwErASsBKwErASsBKwErASsBKwErASsBEUHRQdFB0UHRQdFB0UHRQdFB0UHRQdFB0UHRQdFB0UHRQdFB0UHRQdFB0UHRQdFB0UHRQdFB0UHRQdFB0UHRQdFB0UHRQdFB0UHrASsBKwErASsBKwErASsBKwErASsBKwErASsBKwErASsBKwErASsBKwErASsBKwErASsBKwErASsBKwErASsBKwErASsBKwErASsBKwErASsBKwErASsBKwErASsBKwErASsBKwErASsBKwErASsBKwERQdFB0UHRQdFB0UHRQdFB0UHRQdFB0UHRQdFB0UHRQdFB0UHRQdFB6UApQClAKUApQClAKUApQClAKUA++r76vvq++r76qUApQClAPIB8gHyAfIB8gHyAfIB8gGsBKwErASsBKwErASsBKwErASsBKwErASsBKwErASsBKwErASsBKwErASsBKwErASsBKwErASsBKwErASsBKwErASsBKwErASsBKwErASsBKwErASsBKwErASsBKwErASsBKwErASsBKwErASsBKwE/39FB0UHRQdFB0UHRQdFB0UHpQClAKUApQClAKUApQClAKUApQClAKUApQClAKUApQClAKUApQClAKUApQClAOH14fXh9eH18gHyAfIB8gHyAawErASsBKwErASsBKwErASsBKwErASsBKwErASsBKwErASsBKwErASsBKwErASsBKwErASsBKwErASsBKwErASsBKwErASsBKwErASsBKwErASsBKwErASsBKwErASsBKwErASsBKwErASsBKwErASsBKwErASsBKwErARFB0UHRQdFB0UHRQelAKUApQClAKUApQClAKUApQClAKUApQClAKUApQClAKUApQClAKUApQClAKUA8gHyAfIB8gHyAfIBrASsBKwErASsBKwErASsBKwErASsBKwErASsBKwErASsBKwErASsBKwErASsBKwErASsBKwErASsBKwErASsBKwErASsBKwErASsBKwErASsBKwErASsBKwErASsBKwErASsBKwErASsBKwErASsBKwErASsBKwErASsBKwErASlAKUApQClAKUApQClAKUApQClAKUApQClAKUApQClAKUApQClAKUApQClAKUApQClAKUApQClAKUApQClAPIBpQClAKUApQClAKUApQClAKUApQClAKUApQClAKUApQClAKUApQCsBKUApQClAKUApQCsBKwErASlAKUApQClAKUApQClAKUApQClAKUApQClANb6pQClAKUApQClAKUApQClAKUApQClAKUApQClAKUArASsBKwErASsBKwErASsBKwErASsBKUA/3//f6wE/3//f/9/pQClAKUA/3//f/9/pQClAKUApQClAKUApQClAKUApQD/f/9//3//f/9//3//f/9//3//f/9/pQDyAawErASsBKwErASlAKUApQClAKUApQClAKwErASsBKUApQClAKUApQClAKUApQClAKUApQClAKUApQClAKUApQClAKUA/3//f/9//3//f6UApQClAP9/pQD/f6UApQClAKUApQClAKUApQClAKUApQClAKUA/3+sBKwErASsBKUApQClAKUApQClAKUApQD/f/9//3//f/9/rASsBKwE/3//f/9/rASsBKwErASsBKwErAT/f6wErASsBKwErASsBP9/APgA+KwErAT/f/9//3//f/9//3+lAKUA/3//f/9//3//f/9//3//f/9//3//f/9//3+lAKUApQClAKUApQClAKUApQClAKUApQClAKUApQClAKUApQClAKUApQClAKUApQClAKUApQClAKUApQClAP9/pQClAKUApQClAKUApQClAKUApQClAKUApQClAKUArASlAKUApQClAKUApQClAKUArASsBKwErASsBKwEAPgA+KUApQCsBAD4APgA+AD4APgA+AD4APgA+AD4APgA+KwErASsBKwErAT/f/9/rASsBKwE/3//f/9//3//f/9//3//f/9//3//f/9//3//f/9//3+lAKUApQClAKUApQClAKUApQClAKUApQClAKUApQClAKUApQClAKUApQCt/q3+rf6t/q3+rf6t/q3+pQClAKUApQClAKUApQClAKUApQClAKUApQClAKUApQClAKUApQClAKUApQClAKUArASsBKwErASsBKwErASsBKwErASsBKwEAPgA+AD4rASsBKwEAPgA+AD4APgA+AD4APgA+AD4rASsBKwErASsBKwErASsBKwE/3//f6wEAPgA+AD4APj/f/9//3//f/9//3//f/9//3//f/9/pQClAKUA/3//f/9/pQClAKUApQClAKUApQClAKUApQClAKUApQDqAuoC6gLqAqUApQClAKUApQClAKUApQClAPvqpQClAKUApQD76vvqpQClAKUApQClAKUApQClAKUApQClAKUApQClAKUApQClAKUApQClAKUApQClAKUApQClAKUApQClAKUApQClAKUApQClAKUApQClAKUApQClAKUApQClAAD4pQClAKUAAPgA+AD4APgA+P9//3/W+tb61vrW+tb61vrW+tb61vrW+tb61vrW+tb61vrW+tb61vrW+tb61vrW+tb61vr/f/9/pQClAKUA6gLqAuoC6gLqAuoC6gLqAuoC6gLqAqUApQClAKUApQD76vvq++r76qUApQClAKUApQClAKUApQClAKUApQClAKUApQClAKUApQClAKUApQClAKUApQClAKUApQClAKUApQClAKUApQClAKUApQClAKUApQClAKUApQClAKUApQDyAaUApQAA+AD4APgA+Nb61vrW+tb61vrW+tb61vrW+tb61vrW+tb61vrW+tb61vrW+tb61vrW+tb61vrW+tb61vrW+vIB8gHyAeoC6gLqAvIB8gHyAfIB8gHyAfIB8gHyAfIB8gHyAfIB8gHyAaUApQClAKUApQClAKUApQClAKUApQClAKUApQClAKUApQClAKUApQClAKUApQClAKUApQClAKUApQClAKUApQClAKUApQClAKUApQClAKUA8gHyAfIB8gGlAKUApQClAKUApQClAKUApQAA+AD4APgA+AD41vrW+tb61vrW+tb61vrW+tb61vrW+tb61vrW+tb61vrW+tb61vrW+tb61vrW+vIB8gHyAdb61vrW+tb68gHyAfIB8gGlAKUApQClAKUApQClAKUApQClAKUApQClAKUApQClAKUApQClAKUApQClAKUApQClAKUApQClAKUApQClAKUA1vrW+tb61vrW+tb61vrW+tb61vqlAKUApQClAKUApQClAKUApQClAKUApQClAKUApQClAKUApQClAKUApQClAKUApQClAKUApQClAKUApQClANb61vrW+tb61vrW+tb61vrW+tb6uv+6/7r/1vrW+tb61vrW+tb61vrW+tb61vrW+tb61vrW+tb68gHyAaUApQClAKUApQClAKUApQClAKUApQClAKUApQClAKUApQClAKUApQClAKUApQClAKUApQClAKUApQClAKUA1vrW+tb61vrW+tb61vrW+tb61vrW+tb61vrW+tb61vrW+tb61vrW+tb61vrW+tb61vqlAKUApQClAKUApQClAKUApQClAKUApQClAKUApQClAKUApQClAKUApQClAKUApQClAKUApQClAPIB8gHW+tb61vrW+tb61vrW+tb61vrW+tb68gHyAfIB8gHyAeoC6gLqAvIB8gHyAfIB6gLyAfIB8gHyAfIB8gHyAaUApQClAKUApQClAKUApQClAKUApQClAKUApQClAKUApQClAKUApQClAKUA/3/W+tb61vrW+tb61vrW+tb61vrW+tb61vrW+tb61vrW+tb61vrW+tb61vrW+tb61vrW+tb68gHyAaUApQClAKUApQClAKUApQClAKUApQClAKUApQClAKUApQClAKUApQClAKUApQClAKUApQClAKUApQClAKUApQClAP9/1vrW+tb61vrW+tb61vq6/9b61vrW+tb6uv/yAfIBpQClAKUApQClAKUApQClAKUApQClAKUApQClAKUApQClAKUApQClAKUApQClAKUApQClAKUA1vrW+tb61vrW+tb61vrW+tb61vrW+tb61vrW+tb61vrW+tb61vrW+vIB1vrW+qUApQClAKUApQClAKUApQClAKUApQClAKUApQClAKUApQClAKUApQClAKUApQClAKUApQClAKUApQClAKUApQClAKUA1vrW+tb61vrW+tb61vrW+tb61vrW+tb61vrW+tb61vryAfIB8gGlAKUApQAA+AD4pQClAAD4APgA+AD4APilAKUApQClAKUApQClAKUApQClAKUApQDW+tb61vrW+tb61vrW+tb61vrW+tb61vrW+tb61vrW+tb61vrW+tb61vrW+qUApQClAKUApQClAKUApQClAKUApQClAKUApQClAKUApQClAKUApQClAKUApQClAKUApQClAKUApQClAKUApQClANb61vrW+tb61vrW+tb61vrW+tb61vrW+tb61vrW+tb61vrW+tb61vrW+tb61vrW+qUAAPgA+AD4APgA+AD4APilAKUApQClAKUApQClAPIB8gG6/6UApQClAKUApQClAKUA1vrW+tb61vrW+vIB8gGlAKUApQClAKUApQClAKUApQClAKUApQClAKUApQClAAD4APgA+AD4APgA+AD4APgA+AD4pQClAKUApQClAKUApQClAKUApQClAKUApQClAKUApQClANb61vrW+tb61vrW+tb61vrW+tb61vrW+tb61vrW+tb61vrW+tb61vrW+tb68gHyAfIB8gHyAfIB1vryAfIB8gHyAfIB8gHyAfIB8gHyAfIB8gHyAfIB8gHyAeoC6gLqAvIB8gHqAtb61vrW+vIB8gGlAKUApQClAKUApQClAKUApQClAKUApQClAAD4APgA+AD4APgA+AD4APgA+AD4APgA+AD4APilAKUA/3//f/9/uv//f9b61vrW+tb61vrW+tb61vrW+tb61vrW+tb61vrW+tb61vrW+tb61vrW+tb61vrW+tb61vrW+tb61vrW+v9//3//f/9//3//f/9//3//f/9//3//f/9//3//f/9//3//f/9//3//f/9//3//f/9//3//f/9//3//f9b61vrW+tb68gHW+tb6APj76vvq++r76vvq++r76vvq++r76vvqAPgA+AD4APgA+AD4APgA+AD4APgA+KwErASsBKwE/3//f/9//3//f/9//3//f/9/1vrW+tb61vrW+tb61vrW+tb61vrW+tb61vrW+tb61vrW+tb61vrW+tb6/3//f/9/1vryAfIB/3//f/9//3//f/9/8gHyAf9//3+sBKwE/3//f/9//3//f/9//3//f/9//3//f/9//3//f/9/1vrW+tb61vrW+tb61vrW+tb61vrW+tb61vrW+tb61vrW+vvq++oA+Pvq++r76vvq++r76vvqAPgA+AD4APgA+AD4APgA+KwErAT/f/9//3//f/9//3//f/9//3//f/9//3//f/9/1vrW+tb61vrW+tb61vrW+tb61vrW+tb61vrW+tb61vrW+tb61vrW+tb6/3//f/9//3//f/9//3//f/IBrASsBKwErASsBKwErAQA+KwErAQA+AD4/3/W+tb61vrW+tb61vrW+tb61vrW+tb61vrW+tb61vrW+tb61vrW+tb61vrW+tb61vrW+gD4APgA+AD4++r76vvqAPgA+AD4APgA+AD4APgA+AD4APgA+AD4APgA+AD4APgA+AD4rASsBKwE/3//f/9//3/W+tb61vrW+tb61vrW+tb61vrW+tb61vrW+tb61vrW+tb61vrW+tb61vrW+tb61vrW+tb61vr/f/9/rASsBKwErASsBAD4APgA+KwErASsBP9//3//f/9/1vrW+tb61vrW+tb61vrW+tb61vrW+tb61vrW+tb61vrW+tb61vrW+tb61vrW+tb61vrW+gD4APgA+AD4APgA+AD4APgA+AD4APgA+AD4APgA+AD4APgA+AD4APgA+KwErASsBAD41vrW+tb61vrW+tb61vrW+tb61vrW+tb61vrW+tb61vrW+tb6/3//f/9//3//f/9//3//f/9//3//f/9//3//f/9//3+sBP9//3//f/9//3//f/9//3//f/9//3//f/9//3/W+tb61vrW+tb61vrW+tb61vrW+tb61vrW+tb61vrW+tb61vrW+tb6++oA+Pvq++r76vvq++oA+AD4APgA+LmlAPgA+AD4/3//f/9//3//f9b6/3//f/9//3//f/9//3//f9b61vrW+tb61vrW+tb61vrW+tb61vrW+tb61vrW+tb61vrW+gD4APgA+Pvq++r76vvq/3//f/9//3//f/9//3//f/9//3+sBKwE/3//f/9//3//f/9//3//f/9//3//f9b61vrW+tb61vrW+tb61vrW+tb61vrW+tb61vrW+tb61vrW+tb61vrW+tb6++r76vvq++r76vvq++r76gD4APi5pbmlAPj/f/9//3//f/9//3//f/9//3//f/9//3//f9b61vrW+tb61vrW+tb61vrW+tb61vrW+tb61vrW+tb61vrW+tb6APgA+AD4APj76vvq++oA+AD4APj76vvqAPgA+KwErASsBKwErASsBKwErASsBKwErAT/f/9//3//f/9//3//f9b61vrW+tb61vrW+tb61vrW+tb61vrW+tb61vrW+tb61vrW+tb61vrW+tb61vrW+tb61vr76vvqAPgA+P9//3+5pdb61vrW+tb61vrW+tb61vrW+tb61vrW+tb61vrW+tb61vrW+tb61vrW+tb61vrW+tb61vrW+tb61vrW+tb61vrW+tb6++r76vvq++r76vvqAPgA+AD4APgA+AD4++r76vvq++oA+AD4rASsBKwE/3//f/9/rAT/f/9//3//f/9//3//f/9//3//f/9//3//fwD4APjW+tb61vrW+tb61vrW+tb61vrW+tb61vrW+tb61vrW+tb61vrW+tb61vrW+tb61vrW+tb61vrW+tb61vrW+tb61vrW+tb61vrW+tb61vrW+tb61vrW+tb61vrW+tb61vrW+tb61vrW+tb61vrW+tb61vrW+tb61vrW+tb61vrW+tb61vrW+tb61vrW+tb61vrW+vvq++oA+AD4APgA+AD4++r76vvq++r/f/9/APj/f/9//3//fwD4APgA+AD4APgA+AD4APgA+AD4APgA+AD4APj/f/9//3//f/9/1vrW+tb61vrW+tb61vrW+tb61vrW+tb61vrW+tb61vrW+tb61vrW+tb61vrW+tb61vrW+tb61vrW+tb61vrW+tb61vrW+tb61vrW+tb61vrW+tb61vrW+tb61vrW+vvq++rW+tb61vrW+tb61vrW+tb61vrW+tb61vrW+v9/1voA+AD4APgA+Pvq++r76vvq++r76vvq++r76vvq++oA+AD4APgA+AD4++r76vvq++oA+AD4APgA+AD4/3//f/9//3//f/9//3//f/9//3//f/9//3//f/9/1vrW+tb61vrW+tb61vrW+tb61vrW+tb61vrW+tb61vrW+tb61vrW+tb61vrW+tb61vrW+tb61vrW+tb61vr/f/9//3//f/9/8gHyAfIBpQDW+tb61vrW+tb61vrW+tb6++r76vvq++qlAKUAAPgA+Pvq++r76vvq++r76tb61vrW+tb61vrW+tb61vrW+tb61vrW+vvq++r76vvq++r76vvq++rW+tb61vrW+tb6++r76vvq/3//f/9//3/76vvq/3//f/9/1vrW+tb61vrW+tb61vrW+tb61vrW+tb61vrW+tb61vrW+tb61vrW+tb61vrW+tb61vrW+tb61vrW+tb61vrW+tb66gLW+tb68gHyAfIBrASsBAD41vrW+vIB8gEA+Pvq++r76qUApQClAKUA++r76vvq++r76vvq++r76tb61vrW+tb61vrW+tb61vrW+tb61vrW+tb6/3//f9b61vrW+tb61vrW+tb61vrW+tb61vrW+tb61vrW+tb6++oA+P9//3//f/9//3//f/9//3//f/9/1vrW+tb6/3//f/9//3//f/9//3//f/9//3/W+tb61vrW+tb61vrW+tb61vrW+tb61vrW+tb61vrW+tb61vrW+tb61vrW+tb61vrW+tb61vrW+tb6APgA+AD4APgA+AD4APgA+AD4++r76vvq++r76v9//3//f/9//3/W+tb61vrW+vvq++r76v9//3/W+tb61vrW+tb61vrW+tb61vrW+tb61vrW+tb61vrW+tb61vrW+v9//3/W+tb61vrW+tb61vrW+tb61vr/f/9//3//f/9//3//f/9//3//f/9//3//f9b61vrW+tb61vrW+tb61vrW+tb61vrW+tb61vryAfIB8gH/f/9/1vrW+tb61vrW+tb61vrW+tb6APgA+AD4APgA+AD4APjW+tb61vrW+tb61vrW+tb61vrW+tb61vrW+tb61vrW+vvq++r76vvq1vrW+tb61vrW+tb61vrW+tb61vrW+tb61vrW+tb61vrW+tb61vrW+tb61vrW+tb61vrW+tb61vrW+tb61vrW+v9//3//f/9//3//f/9//3//f/9//3/W+tb61vrW+tb61vrW+tb61vr/f/9//3//f/9//3//f/9//3//f/9/1vrW+tb61vrW+tb61vr/f/9//3//f/9//3//f9b61vrW+tb61vrW+tb61vrW+tb61vrW+tb61vrW+tb61vrW+tb61vrW+tb61vrW+tb61vrW+tb61vrW+vvq++r76vvq++r76vvq++oA+P9//3//f/9//3//f/9/1vrW+tb61vrW+v9//3//f9b61vrW+tb6/3//f9b61vrW+tb61vrW+tb61vrW+tb61vrW+tb61vrW+gD4APgA+AD4APj76vvq++r76v9//3//f/9//3//f/9//3//f/9//3//f/9//3//f/9//3//f/9//3/W+tb61vrW+tb61vrW+tb61vrW+tb61vrW+tb61vrW+tb61vrW+tb61vrW+tb61vrW+tb61vrW+tb61vrW+tb61vrW+tb61vrW+tb61vrW+tb61vrW+tb61vrW+tb61vrW+v9//3//f/9//3//f9b61vr/f/9/1vrW+tb61vrW+tb61vrW+tb61vrW+tb61vrW+tb61vr76vvq++r76vvq++r76vvq++r76vvq++r76vvq++r76vvq++r/f/9/++r76vvq++r76v9//3//f/9//3//f/9//3//f/9//3//f/9//3/W+tb61vrW+tb61vrW+tb61vrW+tb61vrW+tb61vrW+tb61vrW+tb61vrW+tb61vrW+tb61vrW+tb61vrW+tb61vrW+tb61vrW+tb6/3//f/9//3//f/9//3//f/9//3//f/9//3//f/9//3//f/9//3/W+tb61vrW+tb61vrW+tb61vrW+tb61vr76vvq++r76vvq++r76vvq++r76vvq++r76vvq++r/f/9//3//f/9//3//f/9//3//f/9//3//f/9/1vrW+tb61vrW+tb61vrW+tb61vrW+tb61vrW+tb61vrW+tb61vrW+tb61vrW+tb61vrW+tb61vrW+tb61vrW+tb61vrW+tb6++r76vvqrASsBKwErASsBP9/rASsBKwErASsBKwE/3//f/9//3//f/9//3/W+tb61vrW+tb61vrW+tb61vrW+tb61vrW+tb61vrW+vvq++r76vvq++r76vvq++r76vvq++r76vvq++r76qwErAT/f/9//3//f/9//3//f/9/1vrW+tb61vrW+tb61vrW+tb61vrW+tb61vrW+tb61vrW+tb61vrW+tb61vrW+tb61vrW+tb61vrW+tb61vrW+tb61vrW+tb61vrW+tb61vryAfIB/3+sBKwEAPgA+AD4rASsBKwErASsBKwErAT/f/9//3//f/9/++r76tb61vrW+tb61vr76vvq++rW+vvq++r76v9//3//f/9//3//f/9//3//f/9//3//f/9/rASsBP9//3//f/9/1vrW+tb61vrW+tb61vrW+tb61vrW+tb61vrW+tb61vrW+tb61vrW+tb61vrW+tb61vrW+tb61vrW+tb61vrW+tb61vrW+tb61vrW+tb61vryAfIB/3//fwD4APgA+AD4APgA+AD4APgA+AD4APgA+AD4APgA+AD4APgA+AD4APgA+Nb6++r76vvq++r76vvq++r76vvq++r76vvq++r76vvq++r76vvq++r/f/9//3//f/9//3//f/9//3//f/9//3//f9b61vrW+tb61vrW+tb61vrW+tb61vrW+tb61vrW+tb61vrW+tb61vrW+tb61vrW+tb61vrW+tb61vrW+tb61vrW+tb61vrW+kUHRQelAKUApQClAPvqpQD76vvq++qlAKwErASsBKwErASsBKwErAT76vvq++r76vvq++oA+AD4++r76vvq++r76vvq++r76vvq++r76vvq++r76vvq++r76vvq++r76vvq1vrW+tb61vrW+tb61vrW+tb61vrW+tb61vrW+tb61vrW+tb61vrW+tb61vrW+tb61vrW+tb61vrW+tb61vrW+tb61vrW+tb61vrW+tb61vrW+tb61vrW+vvq++r76vvq++r76vvq++r76vvq++r76vvq++r76qwErASsBKwErASsBKwErASsBKwEAPgA+AD4APgA+KwErASsBKwErAT76vvq++r76vvq++r76vvq++r76vvq++r76vvq++r76tb61vrW+tb61vrW+tb61vrW+tb61vrW+tb61vrW+tb61vrW+tb61vrW+tb61vrW+tb61vrW+tb61vrW+tb61vrW+tb61vrW+tb61vrW+tb61vrW+qwErASsBKwErAT76vvq++r76vvq++r76vvq++r76vvq++r76vvq++r76vvqrASsBKwErASsBKwE++r76vvq++r76vvqrAT76vvq++r76tb61vrW+vvq++r76vvqrATW+tb61vrW+tb61vrW+tb61vrW+tb61vrW+tb61vrW+tb61vrW+tb61vrW+tb61vrW+tb61vrW+tb61vrW+tb61vrW+tb6RQdFB0UHRQdFB0UHRQdFB0UHRQdFB0UHRQdFB0UHRQesBKwErASsBKwErAT76vvq++r76vvq++r76vvq++r76vvq++r76vvq++r76qwE++r76vvq++r76vvq++r76vvq++r76vvq++r76vvq++r76vvq++rW+tb61vrW+tb61vrW+tb61vrW+tb61vrW+tb61vrW+tb61vrW+tb61vrW+tb61vrW+tb61vrW+tb61vrW+tb61vrW+tb61vpFB0UHRQdFB0UHRQdFB0UHRQdFB0UHRQdFB0UHRQdFB6wErASsBKwErASsBKwErASsBPvq++r76vvq++r76qwErASsBKwErASsBKwErASsBKwErASsBKwErASsBKwErASsBKwErASsBKwEAPgA+AD41vrW+tb61vrW+tb61vrW+tb61vrW+tb61vrW+tb61vrW+tb61vrW+tb61vrW+tb61vrW+tb61vrW+tb61vrW+tb61vrW+tb61vrW+kUHRQdFB0UHRQdFB0UHRQdFB0UHRQdFB0UHRQdFB0UHRQesBKwE++r76vvq++r76vvqrAT76vvq++r76qwErASsBKwErASsBKwErASsBKwErASsBKwErASsBKwErASsBKwErASsBKwErASsBKwEAPjW+tb61vrW+tb61vrW+tb61vrW+tb61vrW+tb61vrW+tb61vrW+tb61vrW+tb61vrW+tb61vrW+tb61vrW+tb61vrW+tb6RQdFB0UHRQdFB0UHRQdFB0UHRQdFB0UHRQdFB0UHRQdFB6wErASsBKwErASsBPvq++r76qwE++r76vvq++qsBKwErASsBKwErASsBKwErASsBKwErASsBKwErASsBKwErASsBKwErASsBKwErASsBKwErASsBAD4APjW+tb61vrW+tb61vrW+tb61vrW+tb61vrW+tb61vrW+tb61vrW+tb61vrW+tb61vrW+tb61vrW+tb61vrW+tb61vrW+tb61vpFB0UHRQdFB0UHRQdFB0UHrASsBKwErASsBKwErASsBKwErAT76vvq++r76qwE++r76vvq++qsBKwErAQA+AD4APisBAD4rASsBKwErASsBKwErASsBKwErASsBKwErASsBKwErASsBKwErASsBKwErATW+tb61vrW+tb61vrW+tb61vrW+tb61vrW+tb61vrW+tb61vrW+tb61vrW+tb61vrW+tb61vrW+tb61vrW+tb61vrW+tb61vrW+kUHRQdFB9b61vrW+tb61vpFB0UH1vrW+qwErASsBKwErASsBKwE++r76vvq++r76vvq++r76vvqAPgA+AD4APgA+Pvq++r76qwErASsBKwErASsBKwErASsBKwErASsBKwErAT76gD4APgA+AD4APjW+tb61vrW+tb61vrW+tb61vrW+tb61vrW+tb61vrW+tb61vrW+tb61vrW+tb61vrW+tb61vrW+tb61vrW+tb61vrW+tb6RQdFB0UHRQdFB+H14fWsBKwErASsBKwErASsBKwErASsBKwErASsBKwErASsBKwErAT76vvq++r76gD4APgA+AD4APgA+AD4++r76vvq++r76vvq++qsBKwErASsBKwErASsBPvq++r76vvq++oA+AD41vrW+tb61vrW+tb61vrW+tb61vrW+tb61vrW+tb61vrW+tb61vrW+tb61vrW+tb61vrW+tb61vrW+tb61vrW+tb61vrW+kUHRQdFB0UHRQdFB+H14fWsBKwErASsBKwErASsBKwErASsBKwErASsBKwErASsBKwErASsBKwErASsBKwEAPgA+AD4APgA+AD4APgA+Pvq++r76vvq++r76vvq++r76vvq++r76gD4APgA+AD4APgA+AD41vrW+tb61vrW+tb61vrW+tb61vrW+tb61vrW+tb61vrW+tb61vrW+tb61vrW+tb61vrW+tb61vrW+tb61vrW+tb61vrW+tb6RQdFB0UHRQdFB0UHRQdFB0UHrASsBKwErASsBKwErASsBKwErASsBKwErASsBKwErASsBKwErASsBKwEAPgA+AD4APgA+AD4APgA+AD4APisBKwErAQA+AD4APgA+AD4APgA+AD4APgA+AD4APjW+tb61vrW+tb61vrW+tb61vrW+tb61vrW+tb61vrW+tb61vrW+tb61vrW+tb61vrW+tb61vrW+tb61vrW+tb61vrW+tb61vrW+tb61vrW+tb6rASsBKwErASsBKwErASsBEUHrASsBKwErASsBKwErASsBKwErASsBKwErASsBKwErASsBKwEAPgA+AD4APgA+AD4APisBAD4rASsBKwErASsBKwEAPgA+AD4APgA+AD4APgA+AD4APgA+Nb61vrW+tb61vrW+tb61vrW+tb61vrW+tb61vrW+tb61vrW+tb61vrW+tb61vrW+tb61vrW+tb61vrW+tb61vrW+tb61vrW+tb61vrW+tb61vqsBKwErASsBKwErASsBKwErASsBKwErASsBKwErASsBKwErASsBKwErASsBKwErASsBAD4APgA+AD4APgA+AD4APgA+AD4APisBKwErASsBKwErASsBKwErASsBAD4APgA+AD4APjW+tb61vrW+tb61vrW+tb61vrW+tb61vrW+tb61vrW+tb61vrW+tb61vrW+tb61vrW+tb61vrW+tb61vrW+tb61vrW+tb61vrW+tb61vrW+tb61vrW+tb61vrW+qwErASsBKwErASsBPIB1voA+AD4APgA+AD4++oA+AD4rASsBKwEAPgA+AD4APgA+AD4APgA+AD4APgA+AD4APgA+AD4APgA+KwErASsBKwErASsBAD4APgA+AD4APgA+Nb61vrW+tb61vrW+tb61vrW+tb61vrW+tb61vrW+tb61vrW+tb61vrW+tb61vrW+tb61vrW+tb61vrW+tb61vrW+tb61vrW+tb61vrW+tb61vrW+tb61vrW+tb6rASsBKwE/3//f9b61vrW+tb6++r76vvq++r76gD4APgA+AD4APgA+AD4APgA+AD4APgA+AD4APisBKwErASsBKwErASsBKwErASsBKwErAQA+AD4APgA+AD4APgA+Nb61vrW+tb61vrW+tb61vrW+tb61vrW+tb61vrW+tb61vrW+tb61vrW+tb61vrW+tb61vrW+tb61vrW+tb61vrW+tb61vrW+tb61vrW+tb61vrW+tb6rASsBKwErASsBKwErASsBKwErASsBAD4APgA+AD4APgA+AD4APgA+AD4APgA+AD4APgA+AD41vrW+tb61vrW+gD41vrW+tb61voA+AD4APgA+AD4APgA+AD4APgA+AD4APgA+Nb61vrW+tb61vrW+tb61vrW+tb61vrW+tb61vrW+tb61vrW+tb61vrW+tb61vrW+tb61vrW+tb61vrW+tb61vrW+tb61vrW+tb61vrW+tb61vrW+tb61vrW+tb61vrW+tb61vrW+tb61vrW+qwEAPgA+AD4APgA+AD4APgA+AD4APgA+AD4APgA+AD4APgA+AD4APgA+AD4rASsBKwErASsBAD4APgA+AD4APgA+AD4APgA+AD41vrW+tb61vrW+tb61vrW+tb61vrW+tb61vrW+tb61vrW+tb61vrW+tb61vrW+tb61vrW+tb61vrW+tb61vrW+tb61vrW+tb61vrW+tb61vrW+tb61vrW+tb61vrW+tb61vrW+tb61vrW+tb61vrW+tb61vrW+tb6APgA+AD4APgA+KwErASsBAD4APgA+AD4APgA+AD4APgA+KwErASsBKwErAQA+AD4rAQA+KwErASsBAD4APgA+Nb61vrW+tb61vrW+tb61vrW+tb61vrW+tb61vrW+tb61vrW+tb61vrW+tb61vrW+tb61vrW+tb61vrW+tb61vrW+tb61vrW+tb61vrW+tb61vrW+tb61vrW+tb61vrW+tb61vrW+tb61vrW+tb61vrW+tb61vrW+tb61vrW+tb61vrW+tb6APgA+AD4APgA+AD4APgA+AD4APgA+AD4rASsBKwErASsBKwErASsBKwEAPgA+AD4APgA+AD4APjW+tb61vrW+tb61vrW+tb61vrW+tb61vrW+tb61vrW+tb61vrW+tb61vrW+tb61vrW+tb61vrW+tb61vrW+tb61vrW+tb61vrW+tb61vrW+tb61vrW+tb61vrW+tb61vrW+tb61vrW+tb61vrW+tb61vrW+tb61vrW+tb61vrW+tb61vrW+tb61vqsBAD4APgA+AD4APgA+AD4rASsBKwErASsBKwErASsBAD4APgA+AD4APgA+AD4APgA+Nb61vrW+tb61vrW+tb61vrW+tb61vrW+tb61vrW+tb61vrW+tb61vrW+tb61vrW+tb61vrW+tb61vrW+tb61vrW+tb61vrW+tb61vrW+tb61vrW+tb61vrW+tb61vrW+tb61vrW+tb61vrW+tb61vrW+tb61vrW+tb61vrW+tb61vrW+tb61vrW+tb6rAQA+AD4APgA+AD4APisBKwErASsBKwErASsBKwErASsBKwErASsBAD4APgA+AD4APgA+Nb61vrW+tb61vrW+tb61vrW+tb61vrW+tb61vrW+tb61vrW+tb61vrW+tb61vrW+tb61vrW+tb61vrW+tb61vrW+tb61vrW+tb61vrW+tb61vrW+tb61vrW+tb61vrW+tb61vrW+tb61vrW+tb61vrW+tb61vrW+tb61vrW+tb61vrW+tb61vrW+tb61voA+AD4APgA+AD4rASsBKwErASsBKwErASsBAD4APgA+AD4rASsBKwErASsBAD41vrW+tb61vrW+tb61vrW+tb61vrW+tb61vrW+tb61vrW+tb61vrW+tb61vrW+tb61vrW+tb61vrW+tb61vrW+tb61vrW+tb61vrW+tb61vrW+tb61vrW+tb61vrW+tb61vrW+tb61vrW+tb61vrW+tb61vrW+tb61vrW+tb61vrW+tb61vrW+tb61vrW+tb61vrW+qwErASsBAD4rASsBKwErASsBKwErASsBKwErASsBKwErASsBKwErASsBAD4APjW+tb61vrW+tb61vrW+tb61vrW+tb61vrW+tb61vrW+tb61vrW+tb61vrW+tb61vrW+tb61vrW+tb61vrW+tb61vrW+tb61vrW+tb61vrW+tb61vrW+tb61vrW+tb61vrW+tb61vrW+tb61vrW+tb61vrW+tb61vrW+tb61vrW+tb61vrW+tb61vrW+tb6rASsBAD4APgA+AD4APgA+AD4APgA+AD4rASsBKwErASsBKwErASsBKwErASsBKwErAQA+AD41vrW+tb61vrW+tb61vrW+tb61vrW+tb61vrW+tb61vrW+tb61vrW+tb61vrW+tb61vrW+tb61vrW+tb61vrW+tb61vrW+tb61vrW+tb61vrW+tb61vrW+tb61vrW+tb61vrW+tb61vpFB0UHRQdFB0UHRQdFB9b61vrW+tb61vrW+tb61vqsBKwErAQA+AD4APgA+AD4APgA+AD4APisBKwErASsBKwErASsBKwErASsBKwErASsBAD4APhFB0UH1vrW+tb61vrW+tb61vrW+tb61vrW+tb61vrW+tb61vrW+tb61vrW+tb61vrW+tb61vrW+tb61vrW+tb61vrW+tb61vrW+tb61vrW+tb61vrW+tb61vrW+tb61vrW+tb61vrW+tb61vrW+tb61vrW+tb61vrW+tb61vrW+tb61vrW+qwErASsBKwEAPgA+AD4APgA+AD4APgA+AD4rASsBKwErASsBKwErASsBKwEAPgA+AD4APgA+AD4APgA+AD41vrW+tb61vrW+tb61vrW+tb61vrW+tb61vrW+tb61vrW+tb61vrW+tb61vrW+tb61vrW+tb61vrW+tb61vrW+tb61vrW+tb61vrW+tb61vrW+tb61vqsBKwErASsBKwErASsBKwErARFB0UHRQdFB6wErASsBKwErASsBKwErASsBKwErASsBAD4APgA+AD4APgA+AD4APj/f/9/1vrW+tb61vrW+tb6++r76vvq++r76gD4APgA+AD41vrW+tb61vrW+tb61vrW+tb61vrW+tb61vrW+tb61vrW+tb61vrW+tb61vrW+tb61vrW+tb61vrW+tb61vrW+tb61vrW+tb61vrW+tb61vrW+tb61vrW+tb6rASsBKwErASsBKwErASsBKwErASsBKwErASsBKwErASsBKwErASsBKwErASsBKwErASsBKwErASsBKwErAT/f/9/1vrW+tb61vrW+tb61vrW+tb61vrW+tb61vrW+tb61vrW+tb61vrW+tb61vrW+tb61vrW+tb61vrW+tb61vrW+tb61vrW+tb61vrW+tb61vrW+tb61vrW+tb61vrW+tb61vrW+tb61vrW+tb61vrW+tb61vrW+tb61vrW+kUHrASsBKwErASsBKwErASsBKwErASsBKwErASsBKwErASsBKwErASsBKwErASsBKwErASsBKwErASsBAD41vrW+tb61vrW+tb61vrW+tb61vrW+tb61vrW+tb61vrW+tb61vrW+tb61vrW+tb61vrW+tb61vrW+tb61vrW+tb61vrW+tb61vrW+tb61vrW+tb61vrW+tb61vrW+tb61vrW+tb61vrW+tb61vrW+tb61vrW+tb61vrW+tb61vrW+qwErASsBKwErASsBKwErASsBKwErASsBKwErASsBKwErASsBKwErASsBKwErASsBKwErASsBKwEAPjW+tb61vrW+tb61vrW+tb61vrW+tb61vrW+tb61vrW+tb61vrW+tb61vrW+tb61vrW+tb61vrW+tb61vrW+tb61vrW+tb61vrW+tb61vrW+tb61vrW+tb61vrW+tb61vrW+tb61vrW+tb61vrW+tb61vrW+tb61vrW+tb61vrW+tb61vrW+qwErASsBKwErASsBKwErASsBKwErASsBKwErASsBKwErASsBKwErASsBKwErASsBKwErAQA+AD41vrW+tb61vrW+tb61vrW+tb61vrW+tb61vrW+tb61vrW+tb61vrW+tb61vrW+tb61vrW+tb61vrW+tb61vrW+tb61vrW+tb61vrW+tb61vrW+tb61vrW+tb61vrW+tb61vrW+tb61vrW+tb61vrW+tb61vrW+tb61vrW+tb61vrW+tb61vr/fwD4APgA+AD4APgA+KwErASsBKwErASsBKwErASsBKwErASsBKwErASsBKwErASsBKwErAQA+EUH1vrW+tb61vrW+tb61vrW+tb61vrW+tb61vrW+tb61vrW+tb61vrW+tb61vrW+tb61vrW+tb61vrW+tb61vrW+tb61vrW+tb61vrW+tb61vrW+tb61vrW+tb61vrW+tb61vrW+tb61vrW+tb61vrW+tb61vrW+tb61vrW+tb61vrW+tb61vrW+gD4APgA+AD4APgA+KwErASsBKwErASsBKwErASsBKwErASsBKwErASsBKwEAPgA+AD4APjW+tb61vrW+tb61vrW+tb61vrW+tb61vrW+tb61vrW+tb61vrW+tb61vrW+tb61vrW+tb61vrW+tb61vrW+tb61vrW+tb61vrW+tb61vrW+tb61vrW+tb61vrW+tb61vrW+tb61vrW+tb61vrW+tb61vrW+tb61vrW+tb61vrW+qwErATW+tb6APgA+AD4APgA+AD4APisBKwErASsBKwErASsBKwErAQA+AD4APgA+AD4APgA+AD4APgA+Nb61vrW+tb61vrW+tb61vrW+tb61vrW+tb61vrW+tb61vrW+tb61vrW+tb61vrW+tb61vrW+tb61vrW+tb61vrW+tb61vrW+tb61vrW+tb61vrW+tb61vrW+tb61vrW+tb61vrW+tb61vrW+tb61vrW+tb6rASsBKwErASsBKwErASsBKwErAQA+AD4APgA+AD4APgA+AD4rASsBKwErASsBAD4APgA+AD4APgA+AD4APgA+Nb61vrW+tb61vrW+tb61vrW+tb61vrW+tb61vrW+tb61vrW+tb61vrW+tb61vrW+tb61vrW+tb61vrW+tb61vrW+tb61vrW+tb61vrW+tb61vrW+tb61vrW+tb61vrW+tb61vrW+tb61vrW+tb61vrW+tb61vrW+qwErASsBKwErASsBKwErASsBKwErASsBKwErAQA+AD4APgA+AD4APisBKwErAQA+AD4APgA+AD4APgA+AD4APgA+Pvq++rW+tb61vrW+tb61vrW+tb61vrW+tb61vrW+tb61vrW+tb61vrW+tb61vrW+tb61vrW+tb61vrW+tb61vrW+tb61vrW+tb61vrW+tb61vrW+tb61vrW+tb61vrW+tb61vrW+tb61vrW+tb61vrW+tb6rASsBKwErASsBKwErASsBKwErASsBKwErASsBKwErASsBAD4APgA+AD4APgA+AD4APgA+AD4APgA+AD41vrW+tb61vrW+tb61vrW+tb61vrW+tb61vrW+tb6APgA+Nb61vrW+tb61vrW+tb61vrW+tb61vrW+tb61vrW+tb61vrW+tb61vrW+tb61vrW+tb61vrW+tb61vrW+tb61vrW+tb61vrW+tb61vrW+tb61vrW+tb61vrW+tb6rASsBKwEpQClAKwErASsBKwErASsBKwErASsBKwErASsBKwErASsBKwErASsBKwErASsBKwErAQA+AD4APgA+AD41vrW+tb61vrW+tb61vrW+tb61vrW+tb6rAQA+AD41vrW+tb61vrW+tb61vrW+tb61vrW+tb61vrW+tb61vrW+tb61vrW+tb61vrW+tb61vrW+tb61vrW+tb61vrW+tb61vrW+tb61vrW+tb61vrW+tb61vrW+tb61vrW+tb61vrW+tb61vr76vvq++qsBKwErASsBKwErASsBKwErASsBKwErASsBKwErASsBKwErAQA+AD4APgA+AD4APjW+tb61vrW+tb6rASsBKwErASsBKwEAPgA+AD4APgA+AD4APjW+tb61vrW+tb61vrW+tb61vrW+tb61vrW+tb61vrW+tb61vrW+tb61vrW+tb61vrW+tb61vrW+tb61vrW+tb61vrW+tb61vrW+tb61vrW+tb61vrW+tb6rASsBKwE1vrW+qwErASsBKwErASsBKwErASsBKwErASsBKwErASsBKwErAQA+AD4APgA+AD4APgA+AD4APgA+AD41vqsBKwErASsBKwErAQA+AD4APgA+AD4APgA+AD4APgA+AD41vrW+tb61vrW+tb61vrW+tb61vrW+tb61vrW+tb61vrW+tb61vrW+tb61vrW+tb61vrW+tb61vrW+tb61vrW+tb61vrW+tb61vrW+tb61vrW+tb61vrW+tb61vrW+tb61vrW+tb61vrW+qwErASsBKwErASsBKwErASsBKwErASsBKwErAQA+AD4APgA+KwEAPgA+AD4APgA+AD4APisBAD4APgA+AD4APgA+AD4APgA+AD4APgA+AD4APgA+AD4APgA+Nb61vrW+tb6\" type=\"audio/wav\" />\n",
       "                    Your browser does not support the audio element.\n",
       "                </audio>\n",
       "              "
      ],
      "text/plain": [
       "<IPython.lib.display.Audio object>"
      ]
     },
     "execution_count": 177,
     "metadata": {},
     "output_type": "execute_result"
    }
   ],
   "source": [
    "%matplotlib inline\n",
    "\n",
    "ipd.Audio(2**15 * inv_mu_law(y_preds[2,:]), rate=16000) # load a NumPy array"
   ]
  },
  {
   "cell_type": "code",
   "execution_count": 173,
   "metadata": {},
   "outputs": [
    {
     "data": {
      "text/plain": [
       "tensor([[182, 182, 182,  ..., 173,  81,  81],\n",
       "        [182, 182, 182,  ..., 173, 173, 173],\n",
       "        [182, 182, 182,  ...,  81,  81,  81]])"
      ]
     },
     "execution_count": 173,
     "metadata": {},
     "output_type": "execute_result"
    }
   ],
   "source": [
    "y_preds"
   ]
  },
  {
   "cell_type": "code",
   "execution_count": 174,
   "metadata": {},
   "outputs": [
    {
     "data": {
      "text/plain": [
       "tensor([[129, 129, 129,  ..., 117, 117, 117],\n",
       "        [129, 129, 129,  ..., 117, 117, 117],\n",
       "        [129, 129, 129,  ..., 117, 117, 117]])"
      ]
     },
     "execution_count": 174,
     "metadata": {},
     "output_type": "execute_result"
    }
   ],
   "source": [
    "skip_preds"
   ]
  },
  {
   "cell_type": "code",
   "execution_count": null,
   "metadata": {},
   "outputs": [],
   "source": []
  }
 ],
 "metadata": {
  "kernelspec": {
   "display_name": "Python [conda env:umt] *",
   "language": "python",
   "name": "conda-env-umt-py"
  },
  "language_info": {
   "codemirror_mode": {
    "name": "ipython",
    "version": 3
   },
   "file_extension": ".py",
   "mimetype": "text/x-python",
   "name": "python",
   "nbconvert_exporter": "python",
   "pygments_lexer": "ipython3",
   "version": "3.7.6"
  }
 },
 "nbformat": 4,
 "nbformat_minor": 4
}
