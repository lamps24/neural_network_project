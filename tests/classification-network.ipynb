{
  "nbformat": 4,
  "nbformat_minor": 0,
  "metadata": {
    "colab": {
      "name": "Classification_Network.ipynb",
      "provenance": [],
      "collapsed_sections": []
    },
    "kernelspec": {
      "name": "python3",
      "display_name": "Python 3"
    }
  },
  "cells": [
    {
      "cell_type": "code",
      "metadata": {
        "id": "Dh_hkcJMN1Kg",
        "colab_type": "code",
        "colab": {}
      },
      "source": [
        "# import modules\n",
        "import tensorflow as tf\n",
        "from tensorflow.keras import layers\n",
        "from tensorflow.keras.activations import tanh, relu, sigmoid"
      ],
      "execution_count": 0,
      "outputs": []
    },
    {
      "cell_type": "code",
      "metadata": {
        "id": "vtAPZOFeoLwh",
        "colab_type": "code",
        "colab": {}
      },
      "source": [
        "# classification forward pass\n",
        "# input: 3D tensor of size = [batch_size, length, channels] \n",
        "# output: 2D tensor of size = [batch_size, # domains] \n",
        "# values of output represent probabilities of belonging to domain\n",
        "class classifier:\n",
        "    def __init__(self, output_channels=100, kernel_size=1, n_classes=5, rate=0.0):\n",
        "        super().__init__()\n",
        "  \n",
        "        # define the layers\n",
        "        self.initial_conv1d = layers.Conv1D(output_channels, kernel_size) \n",
        "        self.inner_conv1d = layers.Conv1D(output_channels, kernel_size) \n",
        "        self.elu = layers.ELU() \n",
        "        self.outer_conv1d = layers.Conv1D(n_classes, kernel_size) \n",
        "        self.dropout = layers.Dropout(rate)\n",
        "\n",
        "    def call(self, encoded_input):\n",
        "        # execute dropout\n",
        "        x = self.dropout(encoded_input)\n",
        "\n",
        "        # execute layers\n",
        "        for i in range(classification_layers):\n",
        "          if i == 0:\n",
        "            x = self.initial_conv1d(x)\n",
        "          else: \n",
        "            x = self.inner_conv1d(x)          \n",
        "          x = self.elu(x)\n",
        "        logits = self.outer_conv1d(x)\n",
        "        \n",
        "        mean = tf.math.reduce_mean(logits, axis=1)\n",
        "        return mean"
      ],
      "execution_count": 0,
      "outputs": []
    },
    {
      "cell_type": "code",
      "metadata": {
        "id": "VuaavPjXwHTZ",
        "colab_type": "code",
        "colab": {}
      },
      "source": [
        "# test run\n",
        "# randomly generate input data\n",
        "batch_size = 3\n",
        "length = 50\n",
        "dimension = 128\n",
        "z = tf.random.uniform(shape=[batch_size, length, dimension])\n",
        "\n",
        "# object instantiation\n",
        "test_run = classifier()\n",
        "\n",
        "# test run\n",
        "test_run.call(z)\n",
        "# still not sure how to actually look at the tensor"
      ],
      "execution_count": 0,
      "outputs": []
    }
  ]
}