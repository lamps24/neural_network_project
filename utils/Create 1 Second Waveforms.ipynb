{
 "cells": [
  {
   "cell_type": "code",
   "execution_count": 2,
   "metadata": {
    "collapsed": false
   },
   "outputs": [],
   "source": [
    "import os\n",
    "import multiprocessing as mp\n",
    "from pathlib import Path\n",
    "from itertools import chain\n",
    "\n",
    "os.environ['PATH'] += ':/home/csci5980/piehl008/software/ffmpeg/bin/'\n",
    "\n",
    "import pandas as pd\n",
    "import numpy as np\n",
    "\n",
    "import s3_tools\n",
    "import data_tools\n",
    "\n",
    "import warnings"
   ]
  },
  {
   "cell_type": "code",
   "execution_count": 3,
   "metadata": {
    "collapsed": true
   },
   "outputs": [],
   "source": [
    "client = s3_tools.get_s3_client()\n",
    "bucket = 'fma-dataset'\n",
    "raw_audio_directory = s3_tools.load_csv_from_s3(client, 'fma-dataset', 'raw_audio_directory.csv')"
   ]
  },
  {
   "cell_type": "code",
   "execution_count": 4,
   "metadata": {
    "collapsed": false
   },
   "outputs": [],
   "source": [
    "def create_second_waveforms(tid, raw_file, basename, sr=44100, length_threshold=0.95):\n",
    "\n",
    "    try:\n",
    "        warnings.filterwarnings(\"ignore\")\n",
    "        waveform, true_sr = s3_tools.load_raw_audio_from_s3(client, 'fma-dataset', raw_file, sr=sr)\n",
    "        assert true_sr == sr\n",
    "        warnings.filterwarnings('default')\n",
    "    except:\n",
    "        warnings.warn('Unable to create waveform for {}'.format(raw_file))\n",
    "        return []\n",
    "\n",
    "    waveform = np.trim_zeros(waveform)\n",
    "    split_waveform = np.split(waveform, np.arange(sr, len(waveform), sr))\n",
    "    if len(split_waveform[-1]) / float(sr) < length_threshold:\n",
    "        split_waveform = split_waveform[:-1]\n",
    "    else:\n",
    "        split_waveform[-1] = np.pad(split_waveform[-1], (0, sr - len(split_waveform[-1])),\n",
    "                                    'constant', constant_values=(0, 0))\n",
    "    split_files = []\n",
    "    for i, split in enumerate(split_waveform):\n",
    "        split_name = 'sr{}_{}-{}.npy'.format(sr, basename, i)\n",
    "        s3_tools.write_numpy_file_to_s3(split, client, bucket, split_name)\n",
    "        split_files += [(tid, split_name)]\n",
    "\n",
    "    return split_files"
   ]
  },
  {
   "cell_type": "code",
   "execution_count": 5,
   "metadata": {
    "collapsed": false
   },
   "outputs": [
    {
     "data": {
      "text/html": [
       "<div>\n",
       "<style scoped>\n",
       "    .dataframe tbody tr th:only-of-type {\n",
       "        vertical-align: middle;\n",
       "    }\n",
       "\n",
       "    .dataframe tbody tr th {\n",
       "        vertical-align: top;\n",
       "    }\n",
       "\n",
       "    .dataframe thead th {\n",
       "        text-align: right;\n",
       "    }\n",
       "</style>\n",
       "<table border=\"1\" class=\"dataframe\">\n",
       "  <thead>\n",
       "    <tr style=\"text-align: right;\">\n",
       "      <th></th>\n",
       "      <th>track_id</th>\n",
       "      <th>waveform_file</th>\n",
       "      <th>file</th>\n",
       "      <th>genre_top</th>\n",
       "      <th>genres</th>\n",
       "      <th>genres_all</th>\n",
       "      <th>split</th>\n",
       "      <th>subset</th>\n",
       "    </tr>\n",
       "  </thead>\n",
       "  <tbody>\n",
       "    <tr>\n",
       "      <th>0</th>\n",
       "      <td>2</td>\n",
       "      <td>sr44100_waveforms/000002-0.npy</td>\n",
       "      <td>raw-audio/000/000002.mp3</td>\n",
       "      <td>Hip-Hop</td>\n",
       "      <td>[21]</td>\n",
       "      <td>[21]</td>\n",
       "      <td>training</td>\n",
       "      <td>small</td>\n",
       "    </tr>\n",
       "    <tr>\n",
       "      <th>1</th>\n",
       "      <td>2</td>\n",
       "      <td>sr44100_waveforms/000002-1.npy</td>\n",
       "      <td>raw-audio/000/000002.mp3</td>\n",
       "      <td>Hip-Hop</td>\n",
       "      <td>[21]</td>\n",
       "      <td>[21]</td>\n",
       "      <td>training</td>\n",
       "      <td>small</td>\n",
       "    </tr>\n",
       "    <tr>\n",
       "      <th>2</th>\n",
       "      <td>2</td>\n",
       "      <td>sr44100_waveforms/000002-2.npy</td>\n",
       "      <td>raw-audio/000/000002.mp3</td>\n",
       "      <td>Hip-Hop</td>\n",
       "      <td>[21]</td>\n",
       "      <td>[21]</td>\n",
       "      <td>training</td>\n",
       "      <td>small</td>\n",
       "    </tr>\n",
       "    <tr>\n",
       "      <th>3</th>\n",
       "      <td>2</td>\n",
       "      <td>sr44100_waveforms/000002-3.npy</td>\n",
       "      <td>raw-audio/000/000002.mp3</td>\n",
       "      <td>Hip-Hop</td>\n",
       "      <td>[21]</td>\n",
       "      <td>[21]</td>\n",
       "      <td>training</td>\n",
       "      <td>small</td>\n",
       "    </tr>\n",
       "    <tr>\n",
       "      <th>4</th>\n",
       "      <td>2</td>\n",
       "      <td>sr44100_waveforms/000002-4.npy</td>\n",
       "      <td>raw-audio/000/000002.mp3</td>\n",
       "      <td>Hip-Hop</td>\n",
       "      <td>[21]</td>\n",
       "      <td>[21]</td>\n",
       "      <td>training</td>\n",
       "      <td>small</td>\n",
       "    </tr>\n",
       "    <tr>\n",
       "      <th>...</th>\n",
       "      <td>...</td>\n",
       "      <td>...</td>\n",
       "      <td>...</td>\n",
       "      <td>...</td>\n",
       "      <td>...</td>\n",
       "      <td>...</td>\n",
       "      <td>...</td>\n",
       "      <td>...</td>\n",
       "    </tr>\n",
       "    <tr>\n",
       "      <th>239570</th>\n",
       "      <td>155066</td>\n",
       "      <td>sr44100_waveforms/155066-25.npy</td>\n",
       "      <td>raw-audio/155/155066.mp3</td>\n",
       "      <td>Hip-Hop</td>\n",
       "      <td>[21, 811]</td>\n",
       "      <td>[811, 21]</td>\n",
       "      <td>training</td>\n",
       "      <td>small</td>\n",
       "    </tr>\n",
       "    <tr>\n",
       "      <th>239571</th>\n",
       "      <td>155066</td>\n",
       "      <td>sr44100_waveforms/155066-26.npy</td>\n",
       "      <td>raw-audio/155/155066.mp3</td>\n",
       "      <td>Hip-Hop</td>\n",
       "      <td>[21, 811]</td>\n",
       "      <td>[811, 21]</td>\n",
       "      <td>training</td>\n",
       "      <td>small</td>\n",
       "    </tr>\n",
       "    <tr>\n",
       "      <th>239572</th>\n",
       "      <td>155066</td>\n",
       "      <td>sr44100_waveforms/155066-27.npy</td>\n",
       "      <td>raw-audio/155/155066.mp3</td>\n",
       "      <td>Hip-Hop</td>\n",
       "      <td>[21, 811]</td>\n",
       "      <td>[811, 21]</td>\n",
       "      <td>training</td>\n",
       "      <td>small</td>\n",
       "    </tr>\n",
       "    <tr>\n",
       "      <th>239573</th>\n",
       "      <td>155066</td>\n",
       "      <td>sr44100_waveforms/155066-28.npy</td>\n",
       "      <td>raw-audio/155/155066.mp3</td>\n",
       "      <td>Hip-Hop</td>\n",
       "      <td>[21, 811]</td>\n",
       "      <td>[811, 21]</td>\n",
       "      <td>training</td>\n",
       "      <td>small</td>\n",
       "    </tr>\n",
       "    <tr>\n",
       "      <th>239574</th>\n",
       "      <td>155066</td>\n",
       "      <td>sr44100_waveforms/155066-29.npy</td>\n",
       "      <td>raw-audio/155/155066.mp3</td>\n",
       "      <td>Hip-Hop</td>\n",
       "      <td>[21, 811]</td>\n",
       "      <td>[811, 21]</td>\n",
       "      <td>training</td>\n",
       "      <td>small</td>\n",
       "    </tr>\n",
       "  </tbody>\n",
       "</table>\n",
       "<p>239575 rows × 8 columns</p>\n",
       "</div>"
      ],
      "text/plain": [
       "        track_id                    waveform_file                      file  \\\n",
       "0              2   sr44100_waveforms/000002-0.npy  raw-audio/000/000002.mp3   \n",
       "1              2   sr44100_waveforms/000002-1.npy  raw-audio/000/000002.mp3   \n",
       "2              2   sr44100_waveforms/000002-2.npy  raw-audio/000/000002.mp3   \n",
       "3              2   sr44100_waveforms/000002-3.npy  raw-audio/000/000002.mp3   \n",
       "4              2   sr44100_waveforms/000002-4.npy  raw-audio/000/000002.mp3   \n",
       "...          ...                              ...                       ...   \n",
       "239570    155066  sr44100_waveforms/155066-25.npy  raw-audio/155/155066.mp3   \n",
       "239571    155066  sr44100_waveforms/155066-26.npy  raw-audio/155/155066.mp3   \n",
       "239572    155066  sr44100_waveforms/155066-27.npy  raw-audio/155/155066.mp3   \n",
       "239573    155066  sr44100_waveforms/155066-28.npy  raw-audio/155/155066.mp3   \n",
       "239574    155066  sr44100_waveforms/155066-29.npy  raw-audio/155/155066.mp3   \n",
       "\n",
       "       genre_top     genres genres_all     split subset  \n",
       "0        Hip-Hop       [21]       [21]  training  small  \n",
       "1        Hip-Hop       [21]       [21]  training  small  \n",
       "2        Hip-Hop       [21]       [21]  training  small  \n",
       "3        Hip-Hop       [21]       [21]  training  small  \n",
       "4        Hip-Hop       [21]       [21]  training  small  \n",
       "...          ...        ...        ...       ...    ...  \n",
       "239570   Hip-Hop  [21, 811]  [811, 21]  training  small  \n",
       "239571   Hip-Hop  [21, 811]  [811, 21]  training  small  \n",
       "239572   Hip-Hop  [21, 811]  [811, 21]  training  small  \n",
       "239573   Hip-Hop  [21, 811]  [811, 21]  training  small  \n",
       "239574   Hip-Hop  [21, 811]  [811, 21]  training  small  \n",
       "\n",
       "[239575 rows x 8 columns]"
      ]
     },
     "execution_count": 5,
     "metadata": {},
     "output_type": "execute_result"
    }
   ],
   "source": [
    "basenames = raw_audio_directory['file'].map(lambda x: str(Path('waveforms', Path(x).stem)))\n",
    "\n",
    "with mp.Pool(mp.cpu_count()) as p:\n",
    "    waveform_files = list(p.starmap(create_second_waveforms, \n",
    "                                    zip(raw_audio_directory['track_id'], \n",
    "                                        raw_audio_directory['file'],\n",
    "                                        basenames)))\n",
    "\n",
    "wdf = pd.DataFrame(list(chain.from_iterable(waveform_files)), columns=['track_id', 'waveform_file'])\n",
    "wdf = wdf.join(raw_audio_directory.set_index('track_id'), on='track_id')\n",
    "\n",
    "resource = s3_tools.get_s3_resource()\n",
    "s3_tools.write_csv_to_s3(wdf, resource, 'fma-dataset', 'sr{}_waveform_directory.csv'.format(44100))\n",
    "\n",
    "wdf"
   ]
  },
  {
   "cell_type": "markdown",
   "metadata": {
    "collapsed": true
   },
   "source": [
    "## Create Training/Validation/Testing Split csv Files"
   ]
  },
  {
   "cell_type": "code",
   "execution_count": 18,
   "metadata": {
    "collapsed": false
   },
   "outputs": [],
   "source": [
    "wdf = s3_tools.load_csv_from_s3(client, 'fma-dataset', 'sr{}_waveform_directory.csv'.format(44100))\n",
    "resource = s3_tools.get_s3_resource()"
   ]
  },
  {
   "cell_type": "code",
   "execution_count": 19,
   "metadata": {
    "collapsed": false
   },
   "outputs": [],
   "source": [
    "wdf_train = wdf.loc[wdf['split'] == 'training']\n",
    "s3_tools.write_csv_to_s3(wdf_train, resource, 'fma-dataset', 'sr{}_waveform_training_directory.csv'.format(44100))"
   ]
  },
  {
   "cell_type": "code",
   "execution_count": 20,
   "metadata": {
    "collapsed": false
   },
   "outputs": [],
   "source": [
    "wdf_val = wdf.loc[wdf['split'] == 'validation']\n",
    "s3_tools.write_csv_to_s3(wdf_val, resource, 'fma-dataset', 'sr{}_waveform_validation_directory.csv'.format(44100))"
   ]
  },
  {
   "cell_type": "code",
   "execution_count": 21,
   "metadata": {
    "collapsed": false
   },
   "outputs": [],
   "source": [
    "wdf_test = wdf.loc[wdf['split'] == 'test']\n",
    "s3_tools.write_csv_to_s3(wdf_test, resource, 'fma-dataset', 'sr{}_waveform_test_directory.csv'.format(44100))"
   ]
  },
  {
   "cell_type": "code",
   "execution_count": 22,
   "metadata": {
    "collapsed": false
   },
   "outputs": [
    {
     "data": {
      "text/plain": [
       "239575"
      ]
     },
     "execution_count": 22,
     "metadata": {},
     "output_type": "execute_result"
    }
   ],
   "source": [
    "len(wdf_train) + len(wdf_val) + len(wdf_test)"
   ]
  },
  {
   "cell_type": "code",
   "execution_count": 23,
   "metadata": {
    "collapsed": false
   },
   "outputs": [
    {
     "data": {
      "text/plain": [
       "239575"
      ]
     },
     "execution_count": 23,
     "metadata": {},
     "output_type": "execute_result"
    }
   ],
   "source": [
    "len(wdf)"
   ]
  },
  {
   "cell_type": "code",
   "execution_count": null,
   "metadata": {
    "collapsed": true
   },
   "outputs": [],
   "source": []
  }
 ],
 "metadata": {
  "kernelspec": {
   "display_name": "Wavenet",
   "language": "python",
   "name": "wavenet"
  },
  "language_info": {
   "codemirror_mode": {
    "name": "ipython",
    "version": 3
   },
   "file_extension": ".py",
   "mimetype": "text/x-python",
   "name": "python",
   "nbconvert_exporter": "python",
   "pygments_lexer": "ipython3",
   "version": "3.7.6"
  }
 },
 "nbformat": 4,
 "nbformat_minor": 0
}
